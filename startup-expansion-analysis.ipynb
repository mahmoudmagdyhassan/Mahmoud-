{
 "cells": [
  {
   "cell_type": "markdown",
   "id": "26217ded",
   "metadata": {
    "papermill": {
     "duration": 0.013951,
     "end_time": "2022-10-05T16:26:47.851438",
     "exception": false,
     "start_time": "2022-10-05T16:26:47.837487",
     "status": "completed"
    },
    "tags": []
   },
   "source": [
    "# Importing the library"
   ]
  },
  {
   "cell_type": "code",
   "execution_count": 1,
   "id": "163989f3",
   "metadata": {
    "execution": {
     "iopub.execute_input": "2022-10-05T16:26:47.877829Z",
     "iopub.status.busy": "2022-10-05T16:26:47.877200Z",
     "iopub.status.idle": "2022-10-05T16:26:48.963968Z",
     "shell.execute_reply": "2022-10-05T16:26:48.962749Z"
    },
    "papermill": {
     "duration": 1.103864,
     "end_time": "2022-10-05T16:26:48.967656",
     "exception": false,
     "start_time": "2022-10-05T16:26:47.863792",
     "status": "completed"
    },
    "tags": []
   },
   "outputs": [],
   "source": [
    "import pandas as pd\n",
    "import numpy as np\n",
    "import matplotlib.pyplot as plt\n",
    "import seaborn as sns\n",
    "from scipy import stats"
   ]
  },
  {
   "cell_type": "markdown",
   "id": "5d30dd64",
   "metadata": {
    "papermill": {
     "duration": 0.01663,
     "end_time": "2022-10-05T16:26:49.000984",
     "exception": false,
     "start_time": "2022-10-05T16:26:48.984354",
     "status": "completed"
    },
    "tags": []
   },
   "source": [
    "# Importing Data"
   ]
  },
  {
   "cell_type": "code",
   "execution_count": 2,
   "id": "44b88611",
   "metadata": {
    "execution": {
     "iopub.execute_input": "2022-10-05T16:26:49.027349Z",
     "iopub.status.busy": "2022-10-05T16:26:49.026270Z",
     "iopub.status.idle": "2022-10-05T16:26:49.446506Z",
     "shell.execute_reply": "2022-10-05T16:26:49.445218Z"
    },
    "papermill": {
     "duration": 0.436973,
     "end_time": "2022-10-05T16:26:49.449470",
     "exception": false,
     "start_time": "2022-10-05T16:26:49.012497",
     "status": "completed"
    },
    "tags": []
   },
   "outputs": [
    {
     "data": {
      "text/html": [
       "<div>\n",
       "<style scoped>\n",
       "    .dataframe tbody tr th:only-of-type {\n",
       "        vertical-align: middle;\n",
       "    }\n",
       "\n",
       "    .dataframe tbody tr th {\n",
       "        vertical-align: top;\n",
       "    }\n",
       "\n",
       "    .dataframe thead th {\n",
       "        text-align: right;\n",
       "    }\n",
       "</style>\n",
       "<table border=\"1\" class=\"dataframe\">\n",
       "  <thead>\n",
       "    <tr style=\"text-align: right;\">\n",
       "      <th></th>\n",
       "      <th>Store ID</th>\n",
       "      <th>City</th>\n",
       "      <th>State</th>\n",
       "      <th>Sales Region</th>\n",
       "      <th>New Expansion</th>\n",
       "      <th>Marketing Spend</th>\n",
       "      <th>Revenue</th>\n",
       "    </tr>\n",
       "  </thead>\n",
       "  <tbody>\n",
       "    <tr>\n",
       "      <th>0</th>\n",
       "      <td>1</td>\n",
       "      <td>Peoria</td>\n",
       "      <td>Arizona</td>\n",
       "      <td>Region 2</td>\n",
       "      <td>Old</td>\n",
       "      <td>2601</td>\n",
       "      <td>48610</td>\n",
       "    </tr>\n",
       "    <tr>\n",
       "      <th>1</th>\n",
       "      <td>2</td>\n",
       "      <td>Midland</td>\n",
       "      <td>Texas</td>\n",
       "      <td>Region 2</td>\n",
       "      <td>Old</td>\n",
       "      <td>2727</td>\n",
       "      <td>45689</td>\n",
       "    </tr>\n",
       "    <tr>\n",
       "      <th>2</th>\n",
       "      <td>3</td>\n",
       "      <td>Spokane</td>\n",
       "      <td>Washington</td>\n",
       "      <td>Region 2</td>\n",
       "      <td>Old</td>\n",
       "      <td>2768</td>\n",
       "      <td>49554</td>\n",
       "    </tr>\n",
       "    <tr>\n",
       "      <th>3</th>\n",
       "      <td>4</td>\n",
       "      <td>Denton</td>\n",
       "      <td>Texas</td>\n",
       "      <td>Region 2</td>\n",
       "      <td>Old</td>\n",
       "      <td>2759</td>\n",
       "      <td>38284</td>\n",
       "    </tr>\n",
       "    <tr>\n",
       "      <th>4</th>\n",
       "      <td>5</td>\n",
       "      <td>Overland Park</td>\n",
       "      <td>Kansas</td>\n",
       "      <td>Region 2</td>\n",
       "      <td>Old</td>\n",
       "      <td>2869</td>\n",
       "      <td>59887</td>\n",
       "    </tr>\n",
       "  </tbody>\n",
       "</table>\n",
       "</div>"
      ],
      "text/plain": [
       "   Store ID           City       State Sales Region New Expansion  \\\n",
       "0         1         Peoria     Arizona     Region 2           Old   \n",
       "1         2        Midland       Texas     Region 2           Old   \n",
       "2         3        Spokane  Washington     Region 2           Old   \n",
       "3         4         Denton       Texas     Region 2           Old   \n",
       "4         5  Overland Park      Kansas     Region 2           Old   \n",
       "\n",
       "   Marketing Spend  Revenue  \n",
       "0             2601    48610  \n",
       "1             2727    45689  \n",
       "2             2768    49554  \n",
       "3             2759    38284  \n",
       "4             2869    59887  "
      ]
     },
     "execution_count": 2,
     "metadata": {},
     "output_type": "execute_result"
    }
   ],
   "source": [
    "data = pd.read_excel('../input/startupexpansion/startup-expansion.xlsx')\n",
    "data.head()"
   ]
  },
  {
   "cell_type": "markdown",
   "id": "c76587cb",
   "metadata": {
    "papermill": {
     "duration": 0.011377,
     "end_time": "2022-10-05T16:26:49.475893",
     "exception": false,
     "start_time": "2022-10-05T16:26:49.464516",
     "status": "completed"
    },
    "tags": []
   },
   "source": [
    "# Preprocessing Data"
   ]
  },
  {
   "cell_type": "code",
   "execution_count": 3,
   "id": "bc770bf5",
   "metadata": {
    "execution": {
     "iopub.execute_input": "2022-10-05T16:26:49.502905Z",
     "iopub.status.busy": "2022-10-05T16:26:49.502480Z",
     "iopub.status.idle": "2022-10-05T16:26:49.528552Z",
     "shell.execute_reply": "2022-10-05T16:26:49.527757Z"
    },
    "papermill": {
     "duration": 0.041732,
     "end_time": "2022-10-05T16:26:49.531202",
     "exception": false,
     "start_time": "2022-10-05T16:26:49.489470",
     "status": "completed"
    },
    "tags": []
   },
   "outputs": [
    {
     "name": "stdout",
     "output_type": "stream",
     "text": [
      "<class 'pandas.core.frame.DataFrame'>\n",
      "RangeIndex: 150 entries, 0 to 149\n",
      "Data columns (total 7 columns):\n",
      " #   Column           Non-Null Count  Dtype \n",
      "---  ------           --------------  ----- \n",
      " 0   Store ID         150 non-null    int64 \n",
      " 1   City             150 non-null    object\n",
      " 2   State            150 non-null    object\n",
      " 3   Sales Region     150 non-null    object\n",
      " 4   New Expansion    150 non-null    object\n",
      " 5   Marketing Spend  150 non-null    int64 \n",
      " 6   Revenue          150 non-null    int64 \n",
      "dtypes: int64(3), object(4)\n",
      "memory usage: 8.3+ KB\n"
     ]
    }
   ],
   "source": [
    "data.info()"
   ]
  },
  {
   "cell_type": "code",
   "execution_count": 4,
   "id": "5b1cd208",
   "metadata": {
    "execution": {
     "iopub.execute_input": "2022-10-05T16:26:49.556928Z",
     "iopub.status.busy": "2022-10-05T16:26:49.556498Z",
     "iopub.status.idle": "2022-10-05T16:26:49.565807Z",
     "shell.execute_reply": "2022-10-05T16:26:49.564546Z"
    },
    "papermill": {
     "duration": 0.025065,
     "end_time": "2022-10-05T16:26:49.568091",
     "exception": false,
     "start_time": "2022-10-05T16:26:49.543026",
     "status": "completed"
    },
    "tags": []
   },
   "outputs": [
    {
     "data": {
      "text/plain": [
       "Store ID           0\n",
       "City               0\n",
       "State              0\n",
       "Sales Region       0\n",
       "New Expansion      0\n",
       "Marketing Spend    0\n",
       "Revenue            0\n",
       "dtype: int64"
      ]
     },
     "execution_count": 4,
     "metadata": {},
     "output_type": "execute_result"
    }
   ],
   "source": [
    "data.isna().sum()\n",
    "# there is no null data"
   ]
  },
  {
   "cell_type": "markdown",
   "id": "03fd8d8a",
   "metadata": {
    "papermill": {
     "duration": 0.011561,
     "end_time": "2022-10-05T16:26:49.591555",
     "exception": false,
     "start_time": "2022-10-05T16:26:49.579994",
     "status": "completed"
    },
    "tags": []
   },
   "source": [
    "# EDA"
   ]
  },
  {
   "cell_type": "code",
   "execution_count": 5,
   "id": "d59b716c",
   "metadata": {
    "execution": {
     "iopub.execute_input": "2022-10-05T16:26:49.617233Z",
     "iopub.status.busy": "2022-10-05T16:26:49.616841Z",
     "iopub.status.idle": "2022-10-05T16:26:49.639506Z",
     "shell.execute_reply": "2022-10-05T16:26:49.638138Z"
    },
    "papermill": {
     "duration": 0.039074,
     "end_time": "2022-10-05T16:26:49.642323",
     "exception": false,
     "start_time": "2022-10-05T16:26:49.603249",
     "status": "completed"
    },
    "tags": []
   },
   "outputs": [
    {
     "data": {
      "text/html": [
       "<div>\n",
       "<style scoped>\n",
       "    .dataframe tbody tr th:only-of-type {\n",
       "        vertical-align: middle;\n",
       "    }\n",
       "\n",
       "    .dataframe tbody tr th {\n",
       "        vertical-align: top;\n",
       "    }\n",
       "\n",
       "    .dataframe thead th {\n",
       "        text-align: right;\n",
       "    }\n",
       "</style>\n",
       "<table border=\"1\" class=\"dataframe\">\n",
       "  <thead>\n",
       "    <tr style=\"text-align: right;\">\n",
       "      <th></th>\n",
       "      <th>Marketing Spend</th>\n",
       "      <th>Revenue</th>\n",
       "    </tr>\n",
       "  </thead>\n",
       "  <tbody>\n",
       "    <tr>\n",
       "      <th>count</th>\n",
       "      <td>150.00</td>\n",
       "      <td>150.00</td>\n",
       "    </tr>\n",
       "    <tr>\n",
       "      <th>mean</th>\n",
       "      <td>2893.15</td>\n",
       "      <td>39301.43</td>\n",
       "    </tr>\n",
       "    <tr>\n",
       "      <th>std</th>\n",
       "      <td>367.86</td>\n",
       "      <td>15465.75</td>\n",
       "    </tr>\n",
       "    <tr>\n",
       "      <th>min</th>\n",
       "      <td>1811.00</td>\n",
       "      <td>15562.00</td>\n",
       "    </tr>\n",
       "    <tr>\n",
       "      <th>25%</th>\n",
       "      <td>2662.25</td>\n",
       "      <td>21113.50</td>\n",
       "    </tr>\n",
       "    <tr>\n",
       "      <th>50%</th>\n",
       "      <td>2898.00</td>\n",
       "      <td>42993.00</td>\n",
       "    </tr>\n",
       "    <tr>\n",
       "      <th>75%</th>\n",
       "      <td>3111.50</td>\n",
       "      <td>51145.50</td>\n",
       "    </tr>\n",
       "    <tr>\n",
       "      <th>max</th>\n",
       "      <td>3984.00</td>\n",
       "      <td>68828.00</td>\n",
       "    </tr>\n",
       "  </tbody>\n",
       "</table>\n",
       "</div>"
      ],
      "text/plain": [
       "       Marketing Spend   Revenue\n",
       "count           150.00    150.00\n",
       "mean           2893.15  39301.43\n",
       "std             367.86  15465.75\n",
       "min            1811.00  15562.00\n",
       "25%            2662.25  21113.50\n",
       "50%            2898.00  42993.00\n",
       "75%            3111.50  51145.50\n",
       "max            3984.00  68828.00"
      ]
     },
     "execution_count": 5,
     "metadata": {},
     "output_type": "execute_result"
    }
   ],
   "source": [
    "data_dec = data[['Marketing Spend', 'Revenue']]\n",
    "data_dec.describe().round(2)"
   ]
  },
  {
   "cell_type": "code",
   "execution_count": 6,
   "id": "87ae0b53",
   "metadata": {
    "execution": {
     "iopub.execute_input": "2022-10-05T16:26:49.669015Z",
     "iopub.status.busy": "2022-10-05T16:26:49.668324Z",
     "iopub.status.idle": "2022-10-05T16:26:49.676341Z",
     "shell.execute_reply": "2022-10-05T16:26:49.675215Z"
    },
    "papermill": {
     "duration": 0.023609,
     "end_time": "2022-10-05T16:26:49.678610",
     "exception": false,
     "start_time": "2022-10-05T16:26:49.655001",
     "status": "completed"
    },
    "tags": []
   },
   "outputs": [
    {
     "data": {
      "text/plain": [
       "0"
      ]
     },
     "execution_count": 6,
     "metadata": {},
     "output_type": "execute_result"
    }
   ],
   "source": [
    "data.duplicated().sum()"
   ]
  },
  {
   "cell_type": "code",
   "execution_count": 7,
   "id": "706bd724",
   "metadata": {
    "execution": {
     "iopub.execute_input": "2022-10-05T16:26:49.706438Z",
     "iopub.status.busy": "2022-10-05T16:26:49.705846Z",
     "iopub.status.idle": "2022-10-05T16:26:49.712233Z",
     "shell.execute_reply": "2022-10-05T16:26:49.711121Z"
    },
    "papermill": {
     "duration": 0.023,
     "end_time": "2022-10-05T16:26:49.714804",
     "exception": false,
     "start_time": "2022-10-05T16:26:49.691804",
     "status": "completed"
    },
    "tags": []
   },
   "outputs": [
    {
     "data": {
      "text/plain": [
       "Index(['Store ID', 'City', 'State', 'Sales Region', 'New Expansion',\n",
       "       'Marketing Spend', 'Revenue'],\n",
       "      dtype='object')"
      ]
     },
     "execution_count": 7,
     "metadata": {},
     "output_type": "execute_result"
    }
   ],
   "source": [
    "data.columns"
   ]
  },
  {
   "cell_type": "code",
   "execution_count": 8,
   "id": "5dc31765",
   "metadata": {
    "execution": {
     "iopub.execute_input": "2022-10-05T16:26:49.742069Z",
     "iopub.status.busy": "2022-10-05T16:26:49.741619Z",
     "iopub.status.idle": "2022-10-05T16:26:49.748849Z",
     "shell.execute_reply": "2022-10-05T16:26:49.748008Z"
    },
    "papermill": {
     "duration": 0.02348,
     "end_time": "2022-10-05T16:26:49.750935",
     "exception": false,
     "start_time": "2022-10-05T16:26:49.727455",
     "status": "completed"
    },
    "tags": []
   },
   "outputs": [],
   "source": [
    "city_unique = data['City'].unique()\n",
    "state_unique = data['State'].unique()\n",
    "sales_region_unique = data['Sales Region'].unique()\n",
    "new_expansion_unique = data['New Expansion'].unique()"
   ]
  },
  {
   "cell_type": "code",
   "execution_count": 9,
   "id": "63f03cf6",
   "metadata": {
    "execution": {
     "iopub.execute_input": "2022-10-05T16:26:49.777318Z",
     "iopub.status.busy": "2022-10-05T16:26:49.776661Z",
     "iopub.status.idle": "2022-10-05T16:26:49.784772Z",
     "shell.execute_reply": "2022-10-05T16:26:49.783805Z"
    },
    "papermill": {
     "duration": 0.023994,
     "end_time": "2022-10-05T16:26:49.787099",
     "exception": false,
     "start_time": "2022-10-05T16:26:49.763105",
     "status": "completed"
    },
    "tags": []
   },
   "outputs": [],
   "source": [
    "city_value_counts = data['City'].value_counts()\n",
    "state_value_counts = data['State'].value_counts()\n",
    "sales_region_value_counts = data['Sales Region'].value_counts()\n",
    "new_expansion_value_counts = data['New Expansion'].value_counts()"
   ]
  },
  {
   "cell_type": "code",
   "execution_count": 10,
   "id": "180fedb9",
   "metadata": {
    "execution": {
     "iopub.execute_input": "2022-10-05T16:26:49.813600Z",
     "iopub.status.busy": "2022-10-05T16:26:49.812945Z",
     "iopub.status.idle": "2022-10-05T16:26:49.820698Z",
     "shell.execute_reply": "2022-10-05T16:26:49.819622Z"
    },
    "papermill": {
     "duration": 0.023607,
     "end_time": "2022-10-05T16:26:49.822985",
     "exception": false,
     "start_time": "2022-10-05T16:26:49.799378",
     "status": "completed"
    },
    "tags": []
   },
   "outputs": [
    {
     "data": {
      "text/plain": [
       "Old    140\n",
       "New     10\n",
       "Name: New Expansion, dtype: int64"
      ]
     },
     "execution_count": 10,
     "metadata": {},
     "output_type": "execute_result"
    }
   ],
   "source": [
    "new_expansion_value_counts"
   ]
  },
  {
   "cell_type": "code",
   "execution_count": 11,
   "id": "ca7df757",
   "metadata": {
    "execution": {
     "iopub.execute_input": "2022-10-05T16:26:49.850638Z",
     "iopub.status.busy": "2022-10-05T16:26:49.850239Z",
     "iopub.status.idle": "2022-10-05T16:26:49.857211Z",
     "shell.execute_reply": "2022-10-05T16:26:49.856436Z"
    },
    "papermill": {
     "duration": 0.023436,
     "end_time": "2022-10-05T16:26:49.859345",
     "exception": false,
     "start_time": "2022-10-05T16:26:49.835909",
     "status": "completed"
    },
    "tags": []
   },
   "outputs": [
    {
     "data": {
      "text/plain": [
       "California        40\n",
       "Texas             17\n",
       "Florida           12\n",
       "Washington         7\n",
       "Colorado           5\n",
       "Illinois           5\n",
       "Georgia            4\n",
       "Alabama            4\n",
       "Connecticut        4\n",
       "New Jersey         4\n",
       "Arizona            3\n",
       "Tennessee          3\n",
       "Iowa               3\n",
       "Michigan           3\n",
       "South Carolina     3\n",
       "Utah               3\n",
       "Massachusetts      3\n",
       "Kansas             3\n",
       "New York           3\n",
       "Louisiana          2\n",
       "North Carolina     2\n",
       "Ohio               2\n",
       "Virginia           2\n",
       "Oregon             2\n",
       "Mississippi        1\n",
       "New Mexico         1\n",
       "Arkansas           1\n",
       "New Hampshire      1\n",
       "Oklahoma           1\n",
       "Montana            1\n",
       "Indiana            1\n",
       "South Dakota       1\n",
       "Minnesota          1\n",
       "Wisconsin          1\n",
       "Rhode Island       1\n",
       "Name: State, dtype: int64"
      ]
     },
     "execution_count": 11,
     "metadata": {},
     "output_type": "execute_result"
    }
   ],
   "source": [
    "state_value_counts"
   ]
  },
  {
   "cell_type": "code",
   "execution_count": 12,
   "id": "3fa3a2cd",
   "metadata": {
    "execution": {
     "iopub.execute_input": "2022-10-05T16:26:49.885853Z",
     "iopub.status.busy": "2022-10-05T16:26:49.885425Z",
     "iopub.status.idle": "2022-10-05T16:26:49.892845Z",
     "shell.execute_reply": "2022-10-05T16:26:49.891714Z"
    },
    "papermill": {
     "duration": 0.023544,
     "end_time": "2022-10-05T16:26:49.895225",
     "exception": false,
     "start_time": "2022-10-05T16:26:49.871681",
     "status": "completed"
    },
    "tags": []
   },
   "outputs": [
    {
     "data": {
      "text/plain": [
       "Region 2    86\n",
       "Region 1    64\n",
       "Name: Sales Region, dtype: int64"
      ]
     },
     "execution_count": 12,
     "metadata": {},
     "output_type": "execute_result"
    }
   ],
   "source": [
    "sales_region_value_counts"
   ]
  },
  {
   "cell_type": "code",
   "execution_count": 13,
   "id": "c7e82f67",
   "metadata": {
    "execution": {
     "iopub.execute_input": "2022-10-05T16:26:49.922030Z",
     "iopub.status.busy": "2022-10-05T16:26:49.921326Z",
     "iopub.status.idle": "2022-10-05T16:26:49.933837Z",
     "shell.execute_reply": "2022-10-05T16:26:49.932626Z"
    },
    "papermill": {
     "duration": 0.028408,
     "end_time": "2022-10-05T16:26:49.936246",
     "exception": false,
     "start_time": "2022-10-05T16:26:49.907838",
     "status": "completed"
    },
    "tags": []
   },
   "outputs": [
    {
     "data": {
      "text/plain": [
       "Sales Region\n",
       "Region 1    40567.203125\n",
       "Region 2    38359.465116\n",
       "Name: Revenue, dtype: float64"
      ]
     },
     "execution_count": 13,
     "metadata": {},
     "output_type": "execute_result"
    }
   ],
   "source": [
    "data.groupby('Sales Region')['Revenue'].mean()"
   ]
  },
  {
   "cell_type": "code",
   "execution_count": 14,
   "id": "7ad26309",
   "metadata": {
    "execution": {
     "iopub.execute_input": "2022-10-05T16:26:49.963988Z",
     "iopub.status.busy": "2022-10-05T16:26:49.963310Z",
     "iopub.status.idle": "2022-10-05T16:26:50.188254Z",
     "shell.execute_reply": "2022-10-05T16:26:50.187051Z"
    },
    "papermill": {
     "duration": 0.241616,
     "end_time": "2022-10-05T16:26:50.190526",
     "exception": false,
     "start_time": "2022-10-05T16:26:49.948910",
     "status": "completed"
    },
    "tags": []
   },
   "outputs": [
    {
     "data": {
      "text/plain": [
       "<AxesSubplot:xlabel='Sales Region', ylabel='count'>"
      ]
     },
     "execution_count": 14,
     "metadata": {},
     "output_type": "execute_result"
    },
    {
     "data": {
      "image/png": "[encoded data removed]",
      "text/plain": [
       "<Figure size 432x288 with 1 Axes>"
      ]
     },
     "metadata": {
      "needs_background": "light"
     },
     "output_type": "display_data"
    }
   ],
   "source": [
    "sns.countplot(x='Sales Region', data=data)"
   ]
  },
  {
   "cell_type": "code",
   "execution_count": 15,
   "id": "4db2e700",
   "metadata": {
    "execution": {
     "iopub.execute_input": "2022-10-05T16:26:50.220355Z",
     "iopub.status.busy": "2022-10-05T16:26:50.219290Z",
     "iopub.status.idle": "2022-10-05T16:26:50.456417Z",
     "shell.execute_reply": "2022-10-05T16:26:50.455652Z"
    },
    "papermill": {
     "duration": 0.254552,
     "end_time": "2022-10-05T16:26:50.458458",
     "exception": false,
     "start_time": "2022-10-05T16:26:50.203906",
     "status": "completed"
    },
    "tags": []
   },
   "outputs": [
    {
     "data": {
      "text/plain": [
       "<AxesSubplot:xlabel='Sales Region', ylabel='Revenue'>"
      ]
     },
     "execution_count": 15,
     "metadata": {},
     "output_type": "execute_result"
    },
    {
     "data": {
      "image/png": "[encoded data removed]",
      "text/plain": [
       "<Figure size 432x288 with 1 Axes>"
      ]
     },
     "metadata": {
      "needs_background": "light"
     },
     "output_type": "display_data"
    }
   ],
   "source": [
    "sns.barplot(x='Sales Region', y='Revenue', data=data)"
   ]
  },
  {
   "cell_type": "code",
   "execution_count": 16,
   "id": "70fbb4a4",
   "metadata": {
    "execution": {
     "iopub.execute_input": "2022-10-05T16:26:50.489448Z",
     "iopub.status.busy": "2022-10-05T16:26:50.488325Z",
     "iopub.status.idle": "2022-10-05T16:26:50.511587Z",
     "shell.execute_reply": "2022-10-05T16:26:50.510716Z"
    },
    "papermill": {
     "duration": 0.041886,
     "end_time": "2022-10-05T16:26:50.514155",
     "exception": false,
     "start_time": "2022-10-05T16:26:50.472269",
     "status": "completed"
    },
    "tags": []
   },
   "outputs": [
    {
     "data": {
      "text/html": [
       "<div>\n",
       "<style scoped>\n",
       "    .dataframe tbody tr th:only-of-type {\n",
       "        vertical-align: middle;\n",
       "    }\n",
       "\n",
       "    .dataframe tbody tr th {\n",
       "        vertical-align: top;\n",
       "    }\n",
       "\n",
       "    .dataframe thead th {\n",
       "        text-align: right;\n",
       "    }\n",
       "</style>\n",
       "<table border=\"1\" class=\"dataframe\">\n",
       "  <thead>\n",
       "    <tr style=\"text-align: right;\">\n",
       "      <th></th>\n",
       "      <th>Marketing Spend</th>\n",
       "      <th>Revenue</th>\n",
       "    </tr>\n",
       "    <tr>\n",
       "      <th>Sales Region</th>\n",
       "      <th></th>\n",
       "      <th></th>\n",
       "    </tr>\n",
       "  </thead>\n",
       "  <tbody>\n",
       "    <tr>\n",
       "      <th>Region 1</th>\n",
       "      <td>2889.000000</td>\n",
       "      <td>40567.203125</td>\n",
       "    </tr>\n",
       "    <tr>\n",
       "      <th>Region 2</th>\n",
       "      <td>2896.232558</td>\n",
       "      <td>38359.465116</td>\n",
       "    </tr>\n",
       "  </tbody>\n",
       "</table>\n",
       "</div>"
      ],
      "text/plain": [
       "              Marketing Spend       Revenue\n",
       "Sales Region                               \n",
       "Region 1          2889.000000  40567.203125\n",
       "Region 2          2896.232558  38359.465116"
      ]
     },
     "execution_count": 16,
     "metadata": {},
     "output_type": "execute_result"
    }
   ],
   "source": [
    "data.groupby('Sales Region')[['Marketing Spend','Revenue']].mean()"
   ]
  },
  {
   "cell_type": "code",
   "execution_count": 17,
   "id": "7dd8f9dd",
   "metadata": {
    "execution": {
     "iopub.execute_input": "2022-10-05T16:26:50.550737Z",
     "iopub.status.busy": "2022-10-05T16:26:50.549410Z",
     "iopub.status.idle": "2022-10-05T16:26:50.802281Z",
     "shell.execute_reply": "2022-10-05T16:26:50.800926Z"
    },
    "papermill": {
     "duration": 0.275074,
     "end_time": "2022-10-05T16:26:50.804817",
     "exception": false,
     "start_time": "2022-10-05T16:26:50.529743",
     "status": "completed"
    },
    "tags": []
   },
   "outputs": [
    {
     "data": {
      "text/plain": [
       "<AxesSubplot:xlabel='Sales Region', ylabel='Marketing Spend'>"
      ]
     },
     "execution_count": 17,
     "metadata": {},
     "output_type": "execute_result"
    },
    {
     "data": {
      "image/png": "[encoded data removed]",
      "text/plain": [
       "<Figure size 432x288 with 1 Axes>"
      ]
     },
     "metadata": {
      "needs_background": "light"
     },
     "output_type": "display_data"
    }
   ],
   "source": [
    "sns.barplot(x='Sales Region', y='Marketing Spend', data=data)"
   ]
  },
  {
   "cell_type": "code",
   "execution_count": 18,
   "id": "c4f980c8",
   "metadata": {
    "execution": {
     "iopub.execute_input": "2022-10-05T16:26:50.834660Z",
     "iopub.status.busy": "2022-10-05T16:26:50.834233Z",
     "iopub.status.idle": "2022-10-05T16:26:50.858848Z",
     "shell.execute_reply": "2022-10-05T16:26:50.857182Z"
    },
    "papermill": {
     "duration": 0.042802,
     "end_time": "2022-10-05T16:26:50.861909",
     "exception": false,
     "start_time": "2022-10-05T16:26:50.819107",
     "status": "completed"
    },
    "tags": []
   },
   "outputs": [
    {
     "data": {
      "text/html": [
       "<div>\n",
       "<style scoped>\n",
       "    .dataframe tbody tr th:only-of-type {\n",
       "        vertical-align: middle;\n",
       "    }\n",
       "\n",
       "    .dataframe tbody tr th {\n",
       "        vertical-align: top;\n",
       "    }\n",
       "\n",
       "    .dataframe thead th {\n",
       "        text-align: right;\n",
       "    }\n",
       "</style>\n",
       "<table border=\"1\" class=\"dataframe\">\n",
       "  <thead>\n",
       "    <tr style=\"text-align: right;\">\n",
       "      <th></th>\n",
       "      <th></th>\n",
       "      <th></th>\n",
       "      <th>Revenue</th>\n",
       "    </tr>\n",
       "    <tr>\n",
       "      <th>City</th>\n",
       "      <th>State</th>\n",
       "      <th>Sales Region</th>\n",
       "      <th></th>\n",
       "    </tr>\n",
       "  </thead>\n",
       "  <tbody>\n",
       "    <tr>\n",
       "      <th>Little Rock</th>\n",
       "      <th>Arkansas</th>\n",
       "      <th>Region 2</th>\n",
       "      <td>68828.0</td>\n",
       "    </tr>\n",
       "    <tr>\n",
       "      <th>Grand Rapids</th>\n",
       "      <th>Michigan</th>\n",
       "      <th>Region 1</th>\n",
       "      <td>65475.0</td>\n",
       "    </tr>\n",
       "    <tr>\n",
       "      <th>Rochester</th>\n",
       "      <th>New York</th>\n",
       "      <th>Region 1</th>\n",
       "      <td>64906.0</td>\n",
       "    </tr>\n",
       "    <tr>\n",
       "      <th>Oxnard</th>\n",
       "      <th>California</th>\n",
       "      <th>Region 2</th>\n",
       "      <td>64302.0</td>\n",
       "    </tr>\n",
       "    <tr>\n",
       "      <th>Brownsville</th>\n",
       "      <th>Texas</th>\n",
       "      <th>Region 2</th>\n",
       "      <td>63148.0</td>\n",
       "    </tr>\n",
       "    <tr>\n",
       "      <th>...</th>\n",
       "      <th>...</th>\n",
       "      <th>...</th>\n",
       "      <td>...</td>\n",
       "    </tr>\n",
       "    <tr>\n",
       "      <th>Ventura</th>\n",
       "      <th>California</th>\n",
       "      <th>Region 2</th>\n",
       "      <td>16652.0</td>\n",
       "    </tr>\n",
       "    <tr>\n",
       "      <th>Murrieta</th>\n",
       "      <th>California</th>\n",
       "      <th>Region 2</th>\n",
       "      <td>16372.0</td>\n",
       "    </tr>\n",
       "    <tr>\n",
       "      <th>Lewisville</th>\n",
       "      <th>Texas</th>\n",
       "      <th>Region 2</th>\n",
       "      <td>16029.0</td>\n",
       "    </tr>\n",
       "    <tr>\n",
       "      <th>Wichita Falls</th>\n",
       "      <th>Texas</th>\n",
       "      <th>Region 2</th>\n",
       "      <td>15735.0</td>\n",
       "    </tr>\n",
       "    <tr>\n",
       "      <th>Everett</th>\n",
       "      <th>Washington</th>\n",
       "      <th>Region 2</th>\n",
       "      <td>15562.0</td>\n",
       "    </tr>\n",
       "  </tbody>\n",
       "</table>\n",
       "<p>150 rows × 1 columns</p>\n",
       "</div>"
      ],
      "text/plain": [
       "                                       Revenue\n",
       "City          State      Sales Region         \n",
       "Little Rock   Arkansas   Region 2      68828.0\n",
       "Grand Rapids  Michigan   Region 1      65475.0\n",
       "Rochester     New York   Region 1      64906.0\n",
       "Oxnard        California Region 2      64302.0\n",
       "Brownsville   Texas      Region 2      63148.0\n",
       "...                                        ...\n",
       "Ventura       California Region 2      16652.0\n",
       "Murrieta      California Region 2      16372.0\n",
       "Lewisville    Texas      Region 2      16029.0\n",
       "Wichita Falls Texas      Region 2      15735.0\n",
       "Everett       Washington Region 2      15562.0\n",
       "\n",
       "[150 rows x 1 columns]"
      ]
     },
     "execution_count": 18,
     "metadata": {},
     "output_type": "execute_result"
    }
   ],
   "source": [
    "data_city_revenue = data.groupby(['City', 'State', 'Sales Region'])['Revenue'].mean().sort_values(ascending=False)\n",
    "data_city_revenue = pd.DataFrame(data_city_revenue)\n",
    "data_city_revenue"
   ]
  },
  {
   "cell_type": "code",
   "execution_count": 19,
   "id": "f0e2451d",
   "metadata": {
    "execution": {
     "iopub.execute_input": "2022-10-05T16:26:50.892934Z",
     "iopub.status.busy": "2022-10-05T16:26:50.892541Z",
     "iopub.status.idle": "2022-10-05T16:26:53.067075Z",
     "shell.execute_reply": "2022-10-05T16:26:53.065763Z"
    },
    "papermill": {
     "duration": 2.193518,
     "end_time": "2022-10-05T16:26:53.070221",
     "exception": false,
     "start_time": "2022-10-05T16:26:50.876703",
     "status": "completed"
    },
    "tags": []
   },
   "outputs": [
    {
     "data": {
      "text/plain": [
       "<Figure size 2160x1440 with 0 Axes>"
      ]
     },
     "metadata": {},
     "output_type": "display_data"
    },
    {
     "data": {
      "image/png": "[encoded data removed]",
      "text/plain": [
       "<Figure size 1468.38x864 with 1 Axes>"
      ]
     },
     "metadata": {
      "needs_background": "light"
     },
     "output_type": "display_data"
    }
   ],
   "source": [
    "data_reg_1 = data[data['Sales Region'] == 'Region 1']\n",
    "plt.figure(figsize=(30, 20))\n",
    "sns.relplot(y='City', x='State', data=data_reg_1, hue='Revenue', size='Marketing Spend', kind='scatter',height=12, aspect=19/12)\n",
    "plt.xticks(state_unique,rotation=90)\n",
    "plt.show()"
   ]
  },
  {
   "cell_type": "code",
   "execution_count": 20,
   "id": "1838d2b0",
   "metadata": {
    "execution": {
     "iopub.execute_input": "2022-10-05T16:26:53.104318Z",
     "iopub.status.busy": "2022-10-05T16:26:53.103363Z",
     "iopub.status.idle": "2022-10-05T16:26:55.877678Z",
     "shell.execute_reply": "2022-10-05T16:26:55.876580Z"
    },
    "papermill": {
     "duration": 2.795109,
     "end_time": "2022-10-05T16:26:55.881348",
     "exception": false,
     "start_time": "2022-10-05T16:26:53.086239",
     "status": "completed"
    },
    "tags": []
   },
   "outputs": [
    {
     "data": {
      "text/plain": [
       "<Figure size 2160x1440 with 0 Axes>"
      ]
     },
     "metadata": {},
     "output_type": "display_data"
    },
    {
     "data": {
      "image/png": "[encoded data removed]",
      "text/plain": [
       "<Figure size 1696.37x1008 with 1 Axes>"
      ]
     },
     "metadata": {
      "needs_background": "light"
     },
     "output_type": "display_data"
    }
   ],
   "source": [
    "data_reg_2 = data[data['Sales Region'] == 'Region 2'] \n",
    "plt.figure(figsize=(30, 20))\n",
    "sns.relplot(y='City', x='State', data=data_reg_2, hue='Revenue', size='Marketing Spend', kind='scatter',height=14, aspect=19/12)\n",
    "plt.xticks(state_unique,rotation=90)\n",
    "plt.show()"
   ]
  },
  {
   "cell_type": "markdown",
   "id": "a8059e18",
   "metadata": {
    "papermill": {
     "duration": 0.017647,
     "end_time": "2022-10-05T16:26:55.917767",
     "exception": false,
     "start_time": "2022-10-05T16:26:55.900120",
     "status": "completed"
    },
    "tags": []
   },
   "source": [
    "#### From these 2 plots we can see in region_1 no markiting spend in Califoronia and in reg_2 there is alot of marketing spend in Califoronia and this is explanation leading to: Why is a revenue in Region_2 more than Region_1 ?"
   ]
  },
  {
   "cell_type": "code",
   "execution_count": 21,
   "id": "fe6bedb9",
   "metadata": {
    "execution": {
     "iopub.execute_input": "2022-10-05T16:26:55.957081Z",
     "iopub.status.busy": "2022-10-05T16:26:55.956348Z",
     "iopub.status.idle": "2022-10-05T16:26:55.963571Z",
     "shell.execute_reply": "2022-10-05T16:26:55.962535Z"
    },
    "papermill": {
     "duration": 0.030685,
     "end_time": "2022-10-05T16:26:55.966203",
     "exception": false,
     "start_time": "2022-10-05T16:26:55.935518",
     "status": "completed"
    },
    "tags": []
   },
   "outputs": [
    {
     "data": {
      "text/plain": [
       "0"
      ]
     },
     "execution_count": 21,
     "metadata": {},
     "output_type": "execute_result"
    }
   ],
   "source": [
    "data_reg_1['State'].isin(['California']).sum()"
   ]
  },
  {
   "cell_type": "code",
   "execution_count": 22,
   "id": "bb8ef0b2",
   "metadata": {
    "execution": {
     "iopub.execute_input": "2022-10-05T16:26:56.004699Z",
     "iopub.status.busy": "2022-10-05T16:26:56.003433Z",
     "iopub.status.idle": "2022-10-05T16:26:56.012359Z",
     "shell.execute_reply": "2022-10-05T16:26:56.011256Z"
    },
    "papermill": {
     "duration": 0.030462,
     "end_time": "2022-10-05T16:26:56.014552",
     "exception": false,
     "start_time": "2022-10-05T16:26:55.984090",
     "status": "completed"
    },
    "tags": []
   },
   "outputs": [
    {
     "data": {
      "text/plain": [
       "40"
      ]
     },
     "execution_count": 22,
     "metadata": {},
     "output_type": "execute_result"
    }
   ],
   "source": [
    "data_reg_2['State'].isin(['California']).sum()"
   ]
  },
  {
   "cell_type": "code",
   "execution_count": 23,
   "id": "1c973b20",
   "metadata": {
    "execution": {
     "iopub.execute_input": "2022-10-05T16:26:56.053688Z",
     "iopub.status.busy": "2022-10-05T16:26:56.053228Z",
     "iopub.status.idle": "2022-10-05T16:26:56.067303Z",
     "shell.execute_reply": "2022-10-05T16:26:56.066097Z"
    },
    "papermill": {
     "duration": 0.035862,
     "end_time": "2022-10-05T16:26:56.069494",
     "exception": false,
     "start_time": "2022-10-05T16:26:56.033632",
     "status": "completed"
    },
    "tags": []
   },
   "outputs": [
    {
     "data": {
      "text/html": [
       "<div>\n",
       "<style scoped>\n",
       "    .dataframe tbody tr th:only-of-type {\n",
       "        vertical-align: middle;\n",
       "    }\n",
       "\n",
       "    .dataframe tbody tr th {\n",
       "        vertical-align: top;\n",
       "    }\n",
       "\n",
       "    .dataframe thead th {\n",
       "        text-align: right;\n",
       "    }\n",
       "</style>\n",
       "<table border=\"1\" class=\"dataframe\">\n",
       "  <thead>\n",
       "    <tr style=\"text-align: right;\">\n",
       "      <th></th>\n",
       "      <th>Store ID</th>\n",
       "      <th>City</th>\n",
       "      <th>State</th>\n",
       "      <th>Sales Region</th>\n",
       "      <th>New Expansion</th>\n",
       "      <th>Marketing Spend</th>\n",
       "      <th>Revenue</th>\n",
       "    </tr>\n",
       "  </thead>\n",
       "  <tbody>\n",
       "    <tr>\n",
       "      <th>0</th>\n",
       "      <td>1</td>\n",
       "      <td>Peoria</td>\n",
       "      <td>Arizona</td>\n",
       "      <td>Region 2</td>\n",
       "      <td>Old</td>\n",
       "      <td>2601</td>\n",
       "      <td>48610</td>\n",
       "    </tr>\n",
       "    <tr>\n",
       "      <th>1</th>\n",
       "      <td>2</td>\n",
       "      <td>Midland</td>\n",
       "      <td>Texas</td>\n",
       "      <td>Region 2</td>\n",
       "      <td>Old</td>\n",
       "      <td>2727</td>\n",
       "      <td>45689</td>\n",
       "    </tr>\n",
       "    <tr>\n",
       "      <th>2</th>\n",
       "      <td>3</td>\n",
       "      <td>Spokane</td>\n",
       "      <td>Washington</td>\n",
       "      <td>Region 2</td>\n",
       "      <td>Old</td>\n",
       "      <td>2768</td>\n",
       "      <td>49554</td>\n",
       "    </tr>\n",
       "    <tr>\n",
       "      <th>3</th>\n",
       "      <td>4</td>\n",
       "      <td>Denton</td>\n",
       "      <td>Texas</td>\n",
       "      <td>Region 2</td>\n",
       "      <td>Old</td>\n",
       "      <td>2759</td>\n",
       "      <td>38284</td>\n",
       "    </tr>\n",
       "    <tr>\n",
       "      <th>4</th>\n",
       "      <td>5</td>\n",
       "      <td>Overland Park</td>\n",
       "      <td>Kansas</td>\n",
       "      <td>Region 2</td>\n",
       "      <td>Old</td>\n",
       "      <td>2869</td>\n",
       "      <td>59887</td>\n",
       "    </tr>\n",
       "  </tbody>\n",
       "</table>\n",
       "</div>"
      ],
      "text/plain": [
       "   Store ID           City       State Sales Region New Expansion  \\\n",
       "0         1         Peoria     Arizona     Region 2           Old   \n",
       "1         2        Midland       Texas     Region 2           Old   \n",
       "2         3        Spokane  Washington     Region 2           Old   \n",
       "3         4         Denton       Texas     Region 2           Old   \n",
       "4         5  Overland Park      Kansas     Region 2           Old   \n",
       "\n",
       "   Marketing Spend  Revenue  \n",
       "0             2601    48610  \n",
       "1             2727    45689  \n",
       "2             2768    49554  \n",
       "3             2759    38284  \n",
       "4             2869    59887  "
      ]
     },
     "execution_count": 23,
     "metadata": {},
     "output_type": "execute_result"
    }
   ],
   "source": [
    "data.head()"
   ]
  },
  {
   "cell_type": "markdown",
   "id": "4375a1bb",
   "metadata": {
    "papermill": {
     "duration": 0.01775,
     "end_time": "2022-10-05T16:26:56.105410",
     "exception": false,
     "start_time": "2022-10-05T16:26:56.087660",
     "status": "completed"
    },
    "tags": []
   },
   "source": [
    "* Calculate the Profit and ROMS"
   ]
  },
  {
   "cell_type": "code",
   "execution_count": 24,
   "id": "b3610f45",
   "metadata": {
    "execution": {
     "iopub.execute_input": "2022-10-05T16:26:56.143410Z",
     "iopub.status.busy": "2022-10-05T16:26:56.142935Z",
     "iopub.status.idle": "2022-10-05T16:26:56.150112Z",
     "shell.execute_reply": "2022-10-05T16:26:56.148839Z"
    },
    "papermill": {
     "duration": 0.029129,
     "end_time": "2022-10-05T16:26:56.152497",
     "exception": false,
     "start_time": "2022-10-05T16:26:56.123368",
     "status": "completed"
    },
    "tags": []
   },
   "outputs": [],
   "source": [
    "data['Profit'] = data['Revenue'] - data['Marketing Spend']"
   ]
  },
  {
   "cell_type": "code",
   "execution_count": 25,
   "id": "3c49343a",
   "metadata": {
    "execution": {
     "iopub.execute_input": "2022-10-05T16:26:56.191159Z",
     "iopub.status.busy": "2022-10-05T16:26:56.190762Z",
     "iopub.status.idle": "2022-10-05T16:26:56.197437Z",
     "shell.execute_reply": "2022-10-05T16:26:56.196123Z"
    },
    "papermill": {
     "duration": 0.028801,
     "end_time": "2022-10-05T16:26:56.199866",
     "exception": false,
     "start_time": "2022-10-05T16:26:56.171065",
     "status": "completed"
    },
    "tags": []
   },
   "outputs": [],
   "source": [
    "data['ROMS'] = round((data['Profit'] / data['Marketing Spend']) * 100, 2)"
   ]
  },
  {
   "cell_type": "markdown",
   "id": "df06f6a7",
   "metadata": {
    "papermill": {
     "duration": 0.017821,
     "end_time": "2022-10-05T16:26:56.236285",
     "exception": false,
     "start_time": "2022-10-05T16:26:56.218464",
     "status": "completed"
    },
    "tags": []
   },
   "source": [
    "* Largest Revenue in all data "
   ]
  },
  {
   "cell_type": "code",
   "execution_count": 26,
   "id": "2ceb0b3e",
   "metadata": {
    "execution": {
     "iopub.execute_input": "2022-10-05T16:26:56.274651Z",
     "iopub.status.busy": "2022-10-05T16:26:56.274233Z",
     "iopub.status.idle": "2022-10-05T16:26:56.292034Z",
     "shell.execute_reply": "2022-10-05T16:26:56.290944Z"
    },
    "papermill": {
     "duration": 0.039935,
     "end_time": "2022-10-05T16:26:56.294406",
     "exception": false,
     "start_time": "2022-10-05T16:26:56.254471",
     "status": "completed"
    },
    "tags": []
   },
   "outputs": [
    {
     "data": {
      "text/html": [
       "<div>\n",
       "<style scoped>\n",
       "    .dataframe tbody tr th:only-of-type {\n",
       "        vertical-align: middle;\n",
       "    }\n",
       "\n",
       "    .dataframe tbody tr th {\n",
       "        vertical-align: top;\n",
       "    }\n",
       "\n",
       "    .dataframe thead th {\n",
       "        text-align: right;\n",
       "    }\n",
       "</style>\n",
       "<table border=\"1\" class=\"dataframe\">\n",
       "  <thead>\n",
       "    <tr style=\"text-align: right;\">\n",
       "      <th></th>\n",
       "      <th>Store ID</th>\n",
       "      <th>City</th>\n",
       "      <th>State</th>\n",
       "      <th>Sales Region</th>\n",
       "      <th>New Expansion</th>\n",
       "      <th>Marketing Spend</th>\n",
       "      <th>Revenue</th>\n",
       "      <th>Profit</th>\n",
       "      <th>ROMS</th>\n",
       "    </tr>\n",
       "  </thead>\n",
       "  <tbody>\n",
       "    <tr>\n",
       "      <th>63</th>\n",
       "      <td>64</td>\n",
       "      <td>Little Rock</td>\n",
       "      <td>Arkansas</td>\n",
       "      <td>Region 2</td>\n",
       "      <td>Old</td>\n",
       "      <td>2440</td>\n",
       "      <td>68828</td>\n",
       "      <td>66388</td>\n",
       "      <td>2720.82</td>\n",
       "    </tr>\n",
       "  </tbody>\n",
       "</table>\n",
       "</div>"
      ],
      "text/plain": [
       "    Store ID         City     State Sales Region New Expansion  \\\n",
       "63        64  Little Rock  Arkansas     Region 2           Old   \n",
       "\n",
       "    Marketing Spend  Revenue  Profit     ROMS  \n",
       "63             2440    68828   66388  2720.82  "
      ]
     },
     "execution_count": 26,
     "metadata": {},
     "output_type": "execute_result"
    }
   ],
   "source": [
    "data.nlargest(1, columns='Revenue')"
   ]
  },
  {
   "cell_type": "markdown",
   "id": "dd3c61e6",
   "metadata": {
    "papermill": {
     "duration": 0.018132,
     "end_time": "2022-10-05T16:26:56.331085",
     "exception": false,
     "start_time": "2022-10-05T16:26:56.312953",
     "status": "completed"
    },
    "tags": []
   },
   "source": [
    "* Smallest Revenue in all data "
   ]
  },
  {
   "cell_type": "code",
   "execution_count": 27,
   "id": "b4de3723",
   "metadata": {
    "execution": {
     "iopub.execute_input": "2022-10-05T16:26:56.369650Z",
     "iopub.status.busy": "2022-10-05T16:26:56.369225Z",
     "iopub.status.idle": "2022-10-05T16:26:56.386024Z",
     "shell.execute_reply": "2022-10-05T16:26:56.384685Z"
    },
    "papermill": {
     "duration": 0.038934,
     "end_time": "2022-10-05T16:26:56.388310",
     "exception": false,
     "start_time": "2022-10-05T16:26:56.349376",
     "status": "completed"
    },
    "tags": []
   },
   "outputs": [
    {
     "data": {
      "text/html": [
       "<div>\n",
       "<style scoped>\n",
       "    .dataframe tbody tr th:only-of-type {\n",
       "        vertical-align: middle;\n",
       "    }\n",
       "\n",
       "    .dataframe tbody tr th {\n",
       "        vertical-align: top;\n",
       "    }\n",
       "\n",
       "    .dataframe thead th {\n",
       "        text-align: right;\n",
       "    }\n",
       "</style>\n",
       "<table border=\"1\" class=\"dataframe\">\n",
       "  <thead>\n",
       "    <tr style=\"text-align: right;\">\n",
       "      <th></th>\n",
       "      <th>Store ID</th>\n",
       "      <th>City</th>\n",
       "      <th>State</th>\n",
       "      <th>Sales Region</th>\n",
       "      <th>New Expansion</th>\n",
       "      <th>Marketing Spend</th>\n",
       "      <th>Revenue</th>\n",
       "      <th>Profit</th>\n",
       "      <th>ROMS</th>\n",
       "    </tr>\n",
       "  </thead>\n",
       "  <tbody>\n",
       "    <tr>\n",
       "      <th>53</th>\n",
       "      <td>54</td>\n",
       "      <td>Everett</td>\n",
       "      <td>Washington</td>\n",
       "      <td>Region 2</td>\n",
       "      <td>Old</td>\n",
       "      <td>3129</td>\n",
       "      <td>15562</td>\n",
       "      <td>12433</td>\n",
       "      <td>397.35</td>\n",
       "    </tr>\n",
       "  </tbody>\n",
       "</table>\n",
       "</div>"
      ],
      "text/plain": [
       "    Store ID     City       State Sales Region New Expansion  Marketing Spend  \\\n",
       "53        54  Everett  Washington     Region 2           Old             3129   \n",
       "\n",
       "    Revenue  Profit    ROMS  \n",
       "53    15562   12433  397.35  "
      ]
     },
     "execution_count": 27,
     "metadata": {},
     "output_type": "execute_result"
    }
   ],
   "source": [
    "data.nsmallest(1, columns='Revenue')"
   ]
  },
  {
   "cell_type": "markdown",
   "id": "9ad148b4",
   "metadata": {
    "papermill": {
     "duration": 0.018268,
     "end_time": "2022-10-05T16:26:56.425384",
     "exception": false,
     "start_time": "2022-10-05T16:26:56.407116",
     "status": "completed"
    },
    "tags": []
   },
   "source": [
    "* Largest Revenue in all Region_1  "
   ]
  },
  {
   "cell_type": "code",
   "execution_count": 28,
   "id": "85ff3df9",
   "metadata": {
    "execution": {
     "iopub.execute_input": "2022-10-05T16:26:56.464668Z",
     "iopub.status.busy": "2022-10-05T16:26:56.464198Z",
     "iopub.status.idle": "2022-10-05T16:26:56.478866Z",
     "shell.execute_reply": "2022-10-05T16:26:56.477768Z"
    },
    "papermill": {
     "duration": 0.037188,
     "end_time": "2022-10-05T16:26:56.481072",
     "exception": false,
     "start_time": "2022-10-05T16:26:56.443884",
     "status": "completed"
    },
    "tags": []
   },
   "outputs": [
    {
     "data": {
      "text/html": [
       "<div>\n",
       "<style scoped>\n",
       "    .dataframe tbody tr th:only-of-type {\n",
       "        vertical-align: middle;\n",
       "    }\n",
       "\n",
       "    .dataframe tbody tr th {\n",
       "        vertical-align: top;\n",
       "    }\n",
       "\n",
       "    .dataframe thead th {\n",
       "        text-align: right;\n",
       "    }\n",
       "</style>\n",
       "<table border=\"1\" class=\"dataframe\">\n",
       "  <thead>\n",
       "    <tr style=\"text-align: right;\">\n",
       "      <th></th>\n",
       "      <th>Store ID</th>\n",
       "      <th>City</th>\n",
       "      <th>State</th>\n",
       "      <th>Sales Region</th>\n",
       "      <th>New Expansion</th>\n",
       "      <th>Marketing Spend</th>\n",
       "      <th>Revenue</th>\n",
       "    </tr>\n",
       "  </thead>\n",
       "  <tbody>\n",
       "    <tr>\n",
       "      <th>31</th>\n",
       "      <td>32</td>\n",
       "      <td>Grand Rapids</td>\n",
       "      <td>Michigan</td>\n",
       "      <td>Region 1</td>\n",
       "      <td>Old</td>\n",
       "      <td>2808</td>\n",
       "      <td>65475</td>\n",
       "    </tr>\n",
       "  </tbody>\n",
       "</table>\n",
       "</div>"
      ],
      "text/plain": [
       "    Store ID          City     State Sales Region New Expansion  \\\n",
       "31        32  Grand Rapids  Michigan     Region 1           Old   \n",
       "\n",
       "    Marketing Spend  Revenue  \n",
       "31             2808    65475  "
      ]
     },
     "execution_count": 28,
     "metadata": {},
     "output_type": "execute_result"
    }
   ],
   "source": [
    "data_reg_1.nlargest(1, columns='Revenue')"
   ]
  },
  {
   "cell_type": "markdown",
   "id": "0151d036",
   "metadata": {
    "papermill": {
     "duration": 0.019281,
     "end_time": "2022-10-05T16:26:56.519561",
     "exception": false,
     "start_time": "2022-10-05T16:26:56.500280",
     "status": "completed"
    },
    "tags": []
   },
   "source": [
    "* Largest Revenue in all Region_2"
   ]
  },
  {
   "cell_type": "code",
   "execution_count": 29,
   "id": "539cdc7d",
   "metadata": {
    "execution": {
     "iopub.execute_input": "2022-10-05T16:26:56.560125Z",
     "iopub.status.busy": "2022-10-05T16:26:56.559667Z",
     "iopub.status.idle": "2022-10-05T16:26:56.574330Z",
     "shell.execute_reply": "2022-10-05T16:26:56.573451Z"
    },
    "papermill": {
     "duration": 0.037471,
     "end_time": "2022-10-05T16:26:56.576377",
     "exception": false,
     "start_time": "2022-10-05T16:26:56.538906",
     "status": "completed"
    },
    "tags": []
   },
   "outputs": [
    {
     "data": {
      "text/html": [
       "<div>\n",
       "<style scoped>\n",
       "    .dataframe tbody tr th:only-of-type {\n",
       "        vertical-align: middle;\n",
       "    }\n",
       "\n",
       "    .dataframe tbody tr th {\n",
       "        vertical-align: top;\n",
       "    }\n",
       "\n",
       "    .dataframe thead th {\n",
       "        text-align: right;\n",
       "    }\n",
       "</style>\n",
       "<table border=\"1\" class=\"dataframe\">\n",
       "  <thead>\n",
       "    <tr style=\"text-align: right;\">\n",
       "      <th></th>\n",
       "      <th>Store ID</th>\n",
       "      <th>City</th>\n",
       "      <th>State</th>\n",
       "      <th>Sales Region</th>\n",
       "      <th>New Expansion</th>\n",
       "      <th>Marketing Spend</th>\n",
       "      <th>Revenue</th>\n",
       "    </tr>\n",
       "  </thead>\n",
       "  <tbody>\n",
       "    <tr>\n",
       "      <th>63</th>\n",
       "      <td>64</td>\n",
       "      <td>Little Rock</td>\n",
       "      <td>Arkansas</td>\n",
       "      <td>Region 2</td>\n",
       "      <td>Old</td>\n",
       "      <td>2440</td>\n",
       "      <td>68828</td>\n",
       "    </tr>\n",
       "  </tbody>\n",
       "</table>\n",
       "</div>"
      ],
      "text/plain": [
       "    Store ID         City     State Sales Region New Expansion  \\\n",
       "63        64  Little Rock  Arkansas     Region 2           Old   \n",
       "\n",
       "    Marketing Spend  Revenue  \n",
       "63             2440    68828  "
      ]
     },
     "execution_count": 29,
     "metadata": {},
     "output_type": "execute_result"
    }
   ],
   "source": [
    "data_reg_2.nlargest(1, columns='Revenue')"
   ]
  },
  {
   "cell_type": "markdown",
   "id": "681d28e5",
   "metadata": {
    "papermill": {
     "duration": 0.018562,
     "end_time": "2022-10-05T16:26:56.613775",
     "exception": false,
     "start_time": "2022-10-05T16:26:56.595213",
     "status": "completed"
    },
    "tags": []
   },
   "source": [
    "* Smallest Revenue in all Region_1"
   ]
  },
  {
   "cell_type": "code",
   "execution_count": 30,
   "id": "16aadba8",
   "metadata": {
    "execution": {
     "iopub.execute_input": "2022-10-05T16:26:56.655302Z",
     "iopub.status.busy": "2022-10-05T16:26:56.654890Z",
     "iopub.status.idle": "2022-10-05T16:26:56.669580Z",
     "shell.execute_reply": "2022-10-05T16:26:56.668700Z"
    },
    "papermill": {
     "duration": 0.03757,
     "end_time": "2022-10-05T16:26:56.671685",
     "exception": false,
     "start_time": "2022-10-05T16:26:56.634115",
     "status": "completed"
    },
    "tags": []
   },
   "outputs": [
    {
     "data": {
      "text/html": [
       "<div>\n",
       "<style scoped>\n",
       "    .dataframe tbody tr th:only-of-type {\n",
       "        vertical-align: middle;\n",
       "    }\n",
       "\n",
       "    .dataframe tbody tr th {\n",
       "        vertical-align: top;\n",
       "    }\n",
       "\n",
       "    .dataframe thead th {\n",
       "        text-align: right;\n",
       "    }\n",
       "</style>\n",
       "<table border=\"1\" class=\"dataframe\">\n",
       "  <thead>\n",
       "    <tr style=\"text-align: right;\">\n",
       "      <th></th>\n",
       "      <th>Store ID</th>\n",
       "      <th>City</th>\n",
       "      <th>State</th>\n",
       "      <th>Sales Region</th>\n",
       "      <th>New Expansion</th>\n",
       "      <th>Marketing Spend</th>\n",
       "      <th>Revenue</th>\n",
       "    </tr>\n",
       "  </thead>\n",
       "  <tbody>\n",
       "    <tr>\n",
       "      <th>52</th>\n",
       "      <td>53</td>\n",
       "      <td>Manchester</td>\n",
       "      <td>New Hampshire</td>\n",
       "      <td>Region 1</td>\n",
       "      <td>Old</td>\n",
       "      <td>2374</td>\n",
       "      <td>17006</td>\n",
       "    </tr>\n",
       "  </tbody>\n",
       "</table>\n",
       "</div>"
      ],
      "text/plain": [
       "    Store ID        City          State Sales Region New Expansion  \\\n",
       "52        53  Manchester  New Hampshire     Region 1           Old   \n",
       "\n",
       "    Marketing Spend  Revenue  \n",
       "52             2374    17006  "
      ]
     },
     "execution_count": 30,
     "metadata": {},
     "output_type": "execute_result"
    }
   ],
   "source": [
    "data_reg_1.nsmallest(1, columns='Revenue')"
   ]
  },
  {
   "cell_type": "markdown",
   "id": "1f32e70a",
   "metadata": {
    "papermill": {
     "duration": 0.018465,
     "end_time": "2022-10-05T16:26:56.709075",
     "exception": false,
     "start_time": "2022-10-05T16:26:56.690610",
     "status": "completed"
    },
    "tags": []
   },
   "source": [
    "* Smallest Revenue in all Region_2"
   ]
  },
  {
   "cell_type": "code",
   "execution_count": 31,
   "id": "42c28242",
   "metadata": {
    "execution": {
     "iopub.execute_input": "2022-10-05T16:26:56.749668Z",
     "iopub.status.busy": "2022-10-05T16:26:56.749071Z",
     "iopub.status.idle": "2022-10-05T16:26:56.763062Z",
     "shell.execute_reply": "2022-10-05T16:26:56.762228Z"
    },
    "papermill": {
     "duration": 0.037008,
     "end_time": "2022-10-05T16:26:56.765099",
     "exception": false,
     "start_time": "2022-10-05T16:26:56.728091",
     "status": "completed"
    },
    "tags": []
   },
   "outputs": [
    {
     "data": {
      "text/html": [
       "<div>\n",
       "<style scoped>\n",
       "    .dataframe tbody tr th:only-of-type {\n",
       "        vertical-align: middle;\n",
       "    }\n",
       "\n",
       "    .dataframe tbody tr th {\n",
       "        vertical-align: top;\n",
       "    }\n",
       "\n",
       "    .dataframe thead th {\n",
       "        text-align: right;\n",
       "    }\n",
       "</style>\n",
       "<table border=\"1\" class=\"dataframe\">\n",
       "  <thead>\n",
       "    <tr style=\"text-align: right;\">\n",
       "      <th></th>\n",
       "      <th>Store ID</th>\n",
       "      <th>City</th>\n",
       "      <th>State</th>\n",
       "      <th>Sales Region</th>\n",
       "      <th>New Expansion</th>\n",
       "      <th>Marketing Spend</th>\n",
       "      <th>Revenue</th>\n",
       "    </tr>\n",
       "  </thead>\n",
       "  <tbody>\n",
       "    <tr>\n",
       "      <th>53</th>\n",
       "      <td>54</td>\n",
       "      <td>Everett</td>\n",
       "      <td>Washington</td>\n",
       "      <td>Region 2</td>\n",
       "      <td>Old</td>\n",
       "      <td>3129</td>\n",
       "      <td>15562</td>\n",
       "    </tr>\n",
       "  </tbody>\n",
       "</table>\n",
       "</div>"
      ],
      "text/plain": [
       "    Store ID     City       State Sales Region New Expansion  Marketing Spend  \\\n",
       "53        54  Everett  Washington     Region 2           Old             3129   \n",
       "\n",
       "    Revenue  \n",
       "53    15562  "
      ]
     },
     "execution_count": 31,
     "metadata": {},
     "output_type": "execute_result"
    }
   ],
   "source": [
    "data_reg_2.nsmallest(1, columns='Revenue')"
   ]
  },
  {
   "cell_type": "markdown",
   "id": "e361c533",
   "metadata": {
    "papermill": {
     "duration": 0.018845,
     "end_time": "2022-10-05T16:26:56.803024",
     "exception": false,
     "start_time": "2022-10-05T16:26:56.784179",
     "status": "completed"
    },
    "tags": []
   },
   "source": [
    "* Smallest Marketing Spend in all data"
   ]
  },
  {
   "cell_type": "code",
   "execution_count": 32,
   "id": "6b2a6cb5",
   "metadata": {
    "execution": {
     "iopub.execute_input": "2022-10-05T16:26:56.844830Z",
     "iopub.status.busy": "2022-10-05T16:26:56.844419Z",
     "iopub.status.idle": "2022-10-05T16:26:56.860647Z",
     "shell.execute_reply": "2022-10-05T16:26:56.859537Z"
    },
    "papermill": {
     "duration": 0.043273,
     "end_time": "2022-10-05T16:26:56.865712",
     "exception": false,
     "start_time": "2022-10-05T16:26:56.822439",
     "status": "completed"
    },
    "tags": []
   },
   "outputs": [
    {
     "data": {
      "text/html": [
       "<div>\n",
       "<style scoped>\n",
       "    .dataframe tbody tr th:only-of-type {\n",
       "        vertical-align: middle;\n",
       "    }\n",
       "\n",
       "    .dataframe tbody tr th {\n",
       "        vertical-align: top;\n",
       "    }\n",
       "\n",
       "    .dataframe thead th {\n",
       "        text-align: right;\n",
       "    }\n",
       "</style>\n",
       "<table border=\"1\" class=\"dataframe\">\n",
       "  <thead>\n",
       "    <tr style=\"text-align: right;\">\n",
       "      <th></th>\n",
       "      <th>Store ID</th>\n",
       "      <th>City</th>\n",
       "      <th>State</th>\n",
       "      <th>Sales Region</th>\n",
       "      <th>New Expansion</th>\n",
       "      <th>Marketing Spend</th>\n",
       "      <th>Revenue</th>\n",
       "      <th>Profit</th>\n",
       "      <th>ROMS</th>\n",
       "    </tr>\n",
       "  </thead>\n",
       "  <tbody>\n",
       "    <tr>\n",
       "      <th>135</th>\n",
       "      <td>136</td>\n",
       "      <td>San Mateo</td>\n",
       "      <td>California</td>\n",
       "      <td>Region 2</td>\n",
       "      <td>Old</td>\n",
       "      <td>1811</td>\n",
       "      <td>19426</td>\n",
       "      <td>17615</td>\n",
       "      <td>972.67</td>\n",
       "    </tr>\n",
       "  </tbody>\n",
       "</table>\n",
       "</div>"
      ],
      "text/plain": [
       "     Store ID       City       State Sales Region New Expansion  \\\n",
       "135       136  San Mateo  California     Region 2           Old   \n",
       "\n",
       "     Marketing Spend  Revenue  Profit    ROMS  \n",
       "135             1811    19426   17615  972.67  "
      ]
     },
     "execution_count": 32,
     "metadata": {},
     "output_type": "execute_result"
    }
   ],
   "source": [
    "data[data['Marketing Spend'] == min(data['Marketing Spend'])]"
   ]
  },
  {
   "cell_type": "markdown",
   "id": "08dc7a9f",
   "metadata": {
    "papermill": {
     "duration": 0.019024,
     "end_time": "2022-10-05T16:26:56.904490",
     "exception": false,
     "start_time": "2022-10-05T16:26:56.885466",
     "status": "completed"
    },
    "tags": []
   },
   "source": [
    "* Smallest Marketing Spend in Region_1"
   ]
  },
  {
   "cell_type": "code",
   "execution_count": 33,
   "id": "1c18248d",
   "metadata": {
    "execution": {
     "iopub.execute_input": "2022-10-05T16:26:56.945702Z",
     "iopub.status.busy": "2022-10-05T16:26:56.945260Z",
     "iopub.status.idle": "2022-10-05T16:26:56.959985Z",
     "shell.execute_reply": "2022-10-05T16:26:56.959036Z"
    },
    "papermill": {
     "duration": 0.03827,
     "end_time": "2022-10-05T16:26:56.962095",
     "exception": false,
     "start_time": "2022-10-05T16:26:56.923825",
     "status": "completed"
    },
    "tags": []
   },
   "outputs": [
    {
     "data": {
      "text/html": [
       "<div>\n",
       "<style scoped>\n",
       "    .dataframe tbody tr th:only-of-type {\n",
       "        vertical-align: middle;\n",
       "    }\n",
       "\n",
       "    .dataframe tbody tr th {\n",
       "        vertical-align: top;\n",
       "    }\n",
       "\n",
       "    .dataframe thead th {\n",
       "        text-align: right;\n",
       "    }\n",
       "</style>\n",
       "<table border=\"1\" class=\"dataframe\">\n",
       "  <thead>\n",
       "    <tr style=\"text-align: right;\">\n",
       "      <th></th>\n",
       "      <th>Store ID</th>\n",
       "      <th>City</th>\n",
       "      <th>State</th>\n",
       "      <th>Sales Region</th>\n",
       "      <th>New Expansion</th>\n",
       "      <th>Marketing Spend</th>\n",
       "      <th>Revenue</th>\n",
       "    </tr>\n",
       "  </thead>\n",
       "  <tbody>\n",
       "    <tr>\n",
       "      <th>130</th>\n",
       "      <td>131</td>\n",
       "      <td>Savannah</td>\n",
       "      <td>Georgia</td>\n",
       "      <td>Region 1</td>\n",
       "      <td>Old</td>\n",
       "      <td>2028</td>\n",
       "      <td>36029</td>\n",
       "    </tr>\n",
       "  </tbody>\n",
       "</table>\n",
       "</div>"
      ],
      "text/plain": [
       "     Store ID      City    State Sales Region New Expansion  Marketing Spend  \\\n",
       "130       131  Savannah  Georgia     Region 1           Old             2028   \n",
       "\n",
       "     Revenue  \n",
       "130    36029  "
      ]
     },
     "execution_count": 33,
     "metadata": {},
     "output_type": "execute_result"
    }
   ],
   "source": [
    "data_reg_1.nsmallest(1, columns='Marketing Spend')"
   ]
  },
  {
   "cell_type": "markdown",
   "id": "14f21a24",
   "metadata": {
    "papermill": {
     "duration": 0.020062,
     "end_time": "2022-10-05T16:26:57.003066",
     "exception": false,
     "start_time": "2022-10-05T16:26:56.983004",
     "status": "completed"
    },
    "tags": []
   },
   "source": [
    "* Smallest Marketing Spend in Region_2"
   ]
  },
  {
   "cell_type": "code",
   "execution_count": 34,
   "id": "f07b92c9",
   "metadata": {
    "execution": {
     "iopub.execute_input": "2022-10-05T16:26:57.044784Z",
     "iopub.status.busy": "2022-10-05T16:26:57.044382Z",
     "iopub.status.idle": "2022-10-05T16:26:57.058516Z",
     "shell.execute_reply": "2022-10-05T16:26:57.057602Z"
    },
    "papermill": {
     "duration": 0.037628,
     "end_time": "2022-10-05T16:26:57.060929",
     "exception": false,
     "start_time": "2022-10-05T16:26:57.023301",
     "status": "completed"
    },
    "tags": []
   },
   "outputs": [
    {
     "data": {
      "text/html": [
       "<div>\n",
       "<style scoped>\n",
       "    .dataframe tbody tr th:only-of-type {\n",
       "        vertical-align: middle;\n",
       "    }\n",
       "\n",
       "    .dataframe tbody tr th {\n",
       "        vertical-align: top;\n",
       "    }\n",
       "\n",
       "    .dataframe thead th {\n",
       "        text-align: right;\n",
       "    }\n",
       "</style>\n",
       "<table border=\"1\" class=\"dataframe\">\n",
       "  <thead>\n",
       "    <tr style=\"text-align: right;\">\n",
       "      <th></th>\n",
       "      <th>Store ID</th>\n",
       "      <th>City</th>\n",
       "      <th>State</th>\n",
       "      <th>Sales Region</th>\n",
       "      <th>New Expansion</th>\n",
       "      <th>Marketing Spend</th>\n",
       "      <th>Revenue</th>\n",
       "    </tr>\n",
       "  </thead>\n",
       "  <tbody>\n",
       "    <tr>\n",
       "      <th>135</th>\n",
       "      <td>136</td>\n",
       "      <td>San Mateo</td>\n",
       "      <td>California</td>\n",
       "      <td>Region 2</td>\n",
       "      <td>Old</td>\n",
       "      <td>1811</td>\n",
       "      <td>19426</td>\n",
       "    </tr>\n",
       "  </tbody>\n",
       "</table>\n",
       "</div>"
      ],
      "text/plain": [
       "     Store ID       City       State Sales Region New Expansion  \\\n",
       "135       136  San Mateo  California     Region 2           Old   \n",
       "\n",
       "     Marketing Spend  Revenue  \n",
       "135             1811    19426  "
      ]
     },
     "execution_count": 34,
     "metadata": {},
     "output_type": "execute_result"
    }
   ],
   "source": [
    "data_reg_2.nsmallest(1, columns='Marketing Spend')"
   ]
  },
  {
   "cell_type": "markdown",
   "id": "fd9e2e06",
   "metadata": {
    "papermill": {
     "duration": 0.019574,
     "end_time": "2022-10-05T16:26:57.100596",
     "exception": false,
     "start_time": "2022-10-05T16:26:57.081022",
     "status": "completed"
    },
    "tags": []
   },
   "source": [
    "* Largest Marketing Spend in data"
   ]
  },
  {
   "cell_type": "code",
   "execution_count": 35,
   "id": "a7a88925",
   "metadata": {
    "execution": {
     "iopub.execute_input": "2022-10-05T16:26:57.142158Z",
     "iopub.status.busy": "2022-10-05T16:26:57.141763Z",
     "iopub.status.idle": "2022-10-05T16:26:57.156746Z",
     "shell.execute_reply": "2022-10-05T16:26:57.155640Z"
    },
    "papermill": {
     "duration": 0.038668,
     "end_time": "2022-10-05T16:26:57.158837",
     "exception": false,
     "start_time": "2022-10-05T16:26:57.120169",
     "status": "completed"
    },
    "tags": []
   },
   "outputs": [
    {
     "data": {
      "text/html": [
       "<div>\n",
       "<style scoped>\n",
       "    .dataframe tbody tr th:only-of-type {\n",
       "        vertical-align: middle;\n",
       "    }\n",
       "\n",
       "    .dataframe tbody tr th {\n",
       "        vertical-align: top;\n",
       "    }\n",
       "\n",
       "    .dataframe thead th {\n",
       "        text-align: right;\n",
       "    }\n",
       "</style>\n",
       "<table border=\"1\" class=\"dataframe\">\n",
       "  <thead>\n",
       "    <tr style=\"text-align: right;\">\n",
       "      <th></th>\n",
       "      <th>Store ID</th>\n",
       "      <th>City</th>\n",
       "      <th>State</th>\n",
       "      <th>Sales Region</th>\n",
       "      <th>New Expansion</th>\n",
       "      <th>Marketing Spend</th>\n",
       "      <th>Revenue</th>\n",
       "      <th>Profit</th>\n",
       "      <th>ROMS</th>\n",
       "    </tr>\n",
       "  </thead>\n",
       "  <tbody>\n",
       "    <tr>\n",
       "      <th>86</th>\n",
       "      <td>87</td>\n",
       "      <td>Amarillo</td>\n",
       "      <td>Texas</td>\n",
       "      <td>Region 2</td>\n",
       "      <td>Old</td>\n",
       "      <td>3984</td>\n",
       "      <td>56089</td>\n",
       "      <td>52105</td>\n",
       "      <td>1307.86</td>\n",
       "    </tr>\n",
       "  </tbody>\n",
       "</table>\n",
       "</div>"
      ],
      "text/plain": [
       "    Store ID      City  State Sales Region New Expansion  Marketing Spend  \\\n",
       "86        87  Amarillo  Texas     Region 2           Old             3984   \n",
       "\n",
       "    Revenue  Profit     ROMS  \n",
       "86    56089   52105  1307.86  "
      ]
     },
     "execution_count": 35,
     "metadata": {},
     "output_type": "execute_result"
    }
   ],
   "source": [
    "data.nlargest(1, columns='Marketing Spend')"
   ]
  },
  {
   "cell_type": "markdown",
   "id": "479ed62d",
   "metadata": {
    "papermill": {
     "duration": 0.019658,
     "end_time": "2022-10-05T16:26:57.198262",
     "exception": false,
     "start_time": "2022-10-05T16:26:57.178604",
     "status": "completed"
    },
    "tags": []
   },
   "source": [
    "* Largest Marketing Spend in all Region_1"
   ]
  },
  {
   "cell_type": "code",
   "execution_count": 36,
   "id": "0ad000e9",
   "metadata": {
    "execution": {
     "iopub.execute_input": "2022-10-05T16:26:57.240395Z",
     "iopub.status.busy": "2022-10-05T16:26:57.239938Z",
     "iopub.status.idle": "2022-10-05T16:26:57.256371Z",
     "shell.execute_reply": "2022-10-05T16:26:57.255187Z"
    },
    "papermill": {
     "duration": 0.040416,
     "end_time": "2022-10-05T16:26:57.258806",
     "exception": false,
     "start_time": "2022-10-05T16:26:57.218390",
     "status": "completed"
    },
    "tags": []
   },
   "outputs": [
    {
     "data": {
      "text/html": [
       "<div>\n",
       "<style scoped>\n",
       "    .dataframe tbody tr th:only-of-type {\n",
       "        vertical-align: middle;\n",
       "    }\n",
       "\n",
       "    .dataframe tbody tr th {\n",
       "        vertical-align: top;\n",
       "    }\n",
       "\n",
       "    .dataframe thead th {\n",
       "        text-align: right;\n",
       "    }\n",
       "</style>\n",
       "<table border=\"1\" class=\"dataframe\">\n",
       "  <thead>\n",
       "    <tr style=\"text-align: right;\">\n",
       "      <th></th>\n",
       "      <th>Store ID</th>\n",
       "      <th>City</th>\n",
       "      <th>State</th>\n",
       "      <th>Sales Region</th>\n",
       "      <th>New Expansion</th>\n",
       "      <th>Marketing Spend</th>\n",
       "      <th>Revenue</th>\n",
       "    </tr>\n",
       "  </thead>\n",
       "  <tbody>\n",
       "    <tr>\n",
       "      <th>133</th>\n",
       "      <td>134</td>\n",
       "      <td>Green Bay</td>\n",
       "      <td>Wisconsin</td>\n",
       "      <td>Region 1</td>\n",
       "      <td>Old</td>\n",
       "      <td>3586</td>\n",
       "      <td>18454</td>\n",
       "    </tr>\n",
       "  </tbody>\n",
       "</table>\n",
       "</div>"
      ],
      "text/plain": [
       "     Store ID       City      State Sales Region New Expansion  \\\n",
       "133       134  Green Bay  Wisconsin     Region 1           Old   \n",
       "\n",
       "     Marketing Spend  Revenue  \n",
       "133             3586    18454  "
      ]
     },
     "execution_count": 36,
     "metadata": {},
     "output_type": "execute_result"
    }
   ],
   "source": [
    "data_reg_1.nlargest(1, columns='Marketing Spend')"
   ]
  },
  {
   "cell_type": "markdown",
   "id": "3e81b014",
   "metadata": {
    "papermill": {
     "duration": 0.019836,
     "end_time": "2022-10-05T16:26:57.298765",
     "exception": false,
     "start_time": "2022-10-05T16:26:57.278929",
     "status": "completed"
    },
    "tags": []
   },
   "source": [
    "* Largest Marketing Spend in all Region_2"
   ]
  },
  {
   "cell_type": "code",
   "execution_count": 37,
   "id": "7474c091",
   "metadata": {
    "execution": {
     "iopub.execute_input": "2022-10-05T16:26:57.342868Z",
     "iopub.status.busy": "2022-10-05T16:26:57.342414Z",
     "iopub.status.idle": "2022-10-05T16:26:57.357709Z",
     "shell.execute_reply": "2022-10-05T16:26:57.356577Z"
    },
    "papermill": {
     "duration": 0.04024,
     "end_time": "2022-10-05T16:26:57.359817",
     "exception": false,
     "start_time": "2022-10-05T16:26:57.319577",
     "status": "completed"
    },
    "tags": []
   },
   "outputs": [
    {
     "data": {
      "text/html": [
       "<div>\n",
       "<style scoped>\n",
       "    .dataframe tbody tr th:only-of-type {\n",
       "        vertical-align: middle;\n",
       "    }\n",
       "\n",
       "    .dataframe tbody tr th {\n",
       "        vertical-align: top;\n",
       "    }\n",
       "\n",
       "    .dataframe thead th {\n",
       "        text-align: right;\n",
       "    }\n",
       "</style>\n",
       "<table border=\"1\" class=\"dataframe\">\n",
       "  <thead>\n",
       "    <tr style=\"text-align: right;\">\n",
       "      <th></th>\n",
       "      <th>Store ID</th>\n",
       "      <th>City</th>\n",
       "      <th>State</th>\n",
       "      <th>Sales Region</th>\n",
       "      <th>New Expansion</th>\n",
       "      <th>Marketing Spend</th>\n",
       "      <th>Revenue</th>\n",
       "    </tr>\n",
       "  </thead>\n",
       "  <tbody>\n",
       "    <tr>\n",
       "      <th>86</th>\n",
       "      <td>87</td>\n",
       "      <td>Amarillo</td>\n",
       "      <td>Texas</td>\n",
       "      <td>Region 2</td>\n",
       "      <td>Old</td>\n",
       "      <td>3984</td>\n",
       "      <td>56089</td>\n",
       "    </tr>\n",
       "  </tbody>\n",
       "</table>\n",
       "</div>"
      ],
      "text/plain": [
       "    Store ID      City  State Sales Region New Expansion  Marketing Spend  \\\n",
       "86        87  Amarillo  Texas     Region 2           Old             3984   \n",
       "\n",
       "    Revenue  \n",
       "86    56089  "
      ]
     },
     "execution_count": 37,
     "metadata": {},
     "output_type": "execute_result"
    }
   ],
   "source": [
    "data_reg_2.nlargest(1, columns='Marketing Spend')"
   ]
  },
  {
   "cell_type": "code",
   "execution_count": 38,
   "id": "c0421a8b",
   "metadata": {
    "execution": {
     "iopub.execute_input": "2022-10-05T16:26:57.402639Z",
     "iopub.status.busy": "2022-10-05T16:26:57.402236Z",
     "iopub.status.idle": "2022-10-05T16:26:57.410916Z",
     "shell.execute_reply": "2022-10-05T16:26:57.409695Z"
    },
    "papermill": {
     "duration": 0.033462,
     "end_time": "2022-10-05T16:26:57.413377",
     "exception": false,
     "start_time": "2022-10-05T16:26:57.379915",
     "status": "completed"
    },
    "tags": []
   },
   "outputs": [],
   "source": [
    "data.to_csv('I:\\Python\\dataSet\\ml\\startup_expansion\\startup-expansion.csv')"
   ]
  }
 ],
 "metadata": {
  "kernelspec": {
   "display_name": "Python 3",
   "language": "python",
   "name": "python3"
  },
  "language_info": {
   "codemirror_mode": {
    "name": "ipython",
    "version": 3
   },
   "file_extension": ".py",
   "mimetype": "text/x-python",
   "name": "python",
   "nbconvert_exporter": "python",
   "pygments_lexer": "ipython3",
   "version": "3.7.12"
  },
  "papermill": {
   "default_parameters": {},
   "duration": 19.602688,
   "end_time": "2022-10-05T16:26:58.257268",
   "environment_variables": {},
   "exception": null,
   "input_path": "__notebook__.ipynb",
   "output_path": "__notebook__.ipynb",
   "parameters": {},
   "start_time": "2022-10-05T16:26:38.654580",
   "version": "2.3.4"
  }
 },
 "nbformat": 4,
 "nbformat_minor": 5
}
