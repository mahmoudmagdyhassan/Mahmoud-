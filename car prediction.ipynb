{
  "nbformat": 4,
  "nbformat_minor": 0,
  "metadata": {
    "colab": {
      "provenance": [],
      "authorship_tag": "ABX9TyNWYHAnEqEI5ADHXr9GuhEI",
      "include_colab_link": true
    },
    "kernelspec": {
      "name": "python3",
      "display_name": "Python 3"
    },
    "language_info": {
      "name": "python"
    }
  },
  "cells": [
    {
      "cell_type": "markdown",
      "metadata": {
        "id": "view-in-github",
        "colab_type": "text"
      },
      "source": [
        "<a href=\"https://colab.research.google.com/github/mahmoudmagdyhassan/Mahmoud-/blob/main/car%20prediction.ipynb\" target=\"_parent\"><img src=\"https://colab.research.google.com/assets/colab-badge.svg\" alt=\"Open In Colab\"/></a>"
      ]
    },
    {
      "cell_type": "code",
      "execution_count": null,
      "metadata": {
        "id": "2YtMv4XOlZfG"
      },
      "outputs": [],
      "source": [
        "import pandas as pd\n",
        "import numpy as np\n",
        "import matplotlib.pyplot as plt\n",
        "import seaborn as sns\n",
        "# Read the data\n",
        "df = pd.read_csv('/content/train-data.csv')\n",
        "df.head(2)\n"
      ]
    },
    {
      "cell_type": "code",
      "source": [
        "df.drop('Unnamed: 0' , axis =1 , inplace = True )\n",
        "df.drop('Name', axis=1, inplace=True)\n",
        "df.drop(\"New_Price\", axis=1,inplace=True)"
      ],
      "metadata": {
        "id": "MV08WJhvtMG3"
      },
      "execution_count": 8,
      "outputs": []
    },
    {
      "cell_type": "code",
      "source": [
        "df['Mileage'] = df['Mileage'].str.rstrip(' km/kg')\n",
        "df['Mileage'] = df['Mileage'].str.rstrip(' kmpl')\n",
        "df['Engine'] = df['Engine'].str.rstrip(' CC')\n",
        "df['Power'] = df['Power'].str.rstrip(' bhp')\n"
      ],
      "metadata": {
        "id": "dlBHefDtlmRx"
      },
      "execution_count": 9,
      "outputs": []
    },
    {
      "cell_type": "code",
      "source": [
        "\n",
        "df['Mileage'] = df['Mileage'].astype('float')\n",
        "df['Engine'] = df['Engine'].astype('float')\n",
        "df['Power']= df['Engine'].astype('float')"
      ],
      "metadata": {
        "id": "J9u42NtetS3t"
      },
      "execution_count": 10,
      "outputs": []
    },
    {
      "cell_type": "code",
      "source": [
        "round((df.isna().mean()*100),2)"
      ],
      "metadata": {
        "id": "v6vehK7LlvMO"
      },
      "execution_count": null,
      "outputs": []
    },
    {
      "cell_type": "code",
      "source": [
        "df['Mileage'].fillna(df['Mileage'].mean(), inplace=True)\n",
        "df['Engine'].fillna(df['Engine'].mean(), inplace=True)\n",
        "df['Power'].fillna(df['Power'].mean(), inplace=True)\n",
        "df['Seats'].fillna(df['Seats'].mean(), inplace=True)\n",
        "round((df.isna().mean()*100),2)"
      ],
      "metadata": {
        "colab": {
          "base_uri": "https://localhost:8080/"
        },
        "id": "sO5ZnN2llx58",
        "outputId": "84354f83-941d-458d-cdeb-87a4b1f7e1b6"
      },
      "execution_count": 12,
      "outputs": [
        {
          "output_type": "execute_result",
          "data": {
            "text/plain": [
              "Location             0.0\n",
              "Year                 0.0\n",
              "Kilometers_Driven    0.0\n",
              "Fuel_Type            0.0\n",
              "Transmission         0.0\n",
              "Owner_Type           0.0\n",
              "Mileage              0.0\n",
              "Engine               0.0\n",
              "Power                0.0\n",
              "Seats                0.0\n",
              "Price                0.0\n",
              "dtype: float64"
            ]
          },
          "metadata": {},
          "execution_count": 12
        }
      ]
    },
    {
      "cell_type": "code",
      "source": [
        "import plotly.express as px\n",
        "def colpie (col ):\n",
        "    fig = px.pie(data_frame = df , names = col)\n",
        "    fig.show()"
      ],
      "metadata": {
        "id": "_cpR5TW0nA7W"
      },
      "execution_count": 13,
      "outputs": []
    },
    {
      "cell_type": "code",
      "source": [
        "colpie('Location')\n"
      ],
      "metadata": {
        "id": "cegssaQztkdw"
      },
      "execution_count": null,
      "outputs": []
    },
    {
      "cell_type": "code",
      "source": [
        "colpie('Fuel_Type')"
      ],
      "metadata": {
        "id": "BFJcYApktnjV"
      },
      "execution_count": null,
      "outputs": []
    },
    {
      "cell_type": "code",
      "source": [
        "colpie('Transmission')"
      ],
      "metadata": {
        "id": "KKx-xnc2tqSU"
      },
      "execution_count": null,
      "outputs": []
    },
    {
      "cell_type": "code",
      "source": [
        "colpie('Owner_Type')"
      ],
      "metadata": {
        "id": "zy-NMGfitrIj"
      },
      "execution_count": null,
      "outputs": []
    },
    {
      "cell_type": "code",
      "source": [
        "num_cols = df.select_dtypes(exclude = 'O').columns.tolist()\n",
        "num_cols\n",
        "print(\"num_cols:\",num_cols)\n",
        "for col in num_cols:\n",
        "    print(df[col].value_counts())\n",
        "    print('------------------------------------------------------------')\n"
      ],
      "metadata": {
        "id": "LQgvYPxCttFN"
      },
      "execution_count": null,
      "outputs": []
    },
    {
      "cell_type": "code",
      "source": [
        "\n",
        "\n",
        "plt.figure(figsize = (20 , 40))\n",
        "for i , col in enumerate (num_cols  ,1) :\n",
        "    plt.subplot((len(num_cols)//2+1) , 3 , i )\n",
        "    sns.histplot(data = df , x = col)"
      ],
      "metadata": {
        "id": "nYR5MtwstxxA"
      },
      "execution_count": null,
      "outputs": []
    },
    {
      "cell_type": "code",
      "source": [
        "fuel_price = df.groupby('Fuel_Type')['Price'].mean().sort_values(ascending=False)\n",
        "fig = px.bar(fuel_price , color = fuel_price.index )\n",
        "fig.show()"
      ],
      "metadata": {
        "id": "DdhppkWIt0wZ"
      },
      "execution_count": null,
      "outputs": []
    },
    {
      "cell_type": "code",
      "source": [
        "trans_price = df.groupby('Transmission')['Price'].mean().sort_values(ascending=False)\n",
        "fig = px.bar(trans_price , color = trans_price.index )\n",
        "fig.show()"
      ],
      "metadata": {
        "id": "oTdaMZG-t3Lp"
      },
      "execution_count": null,
      "outputs": []
    },
    {
      "cell_type": "code",
      "source": [
        "owner_price = df.groupby('Owner_Type')['Price'].mean().sort_values(ascending=False)\n",
        "fig = px.bar(owner_price , color = owner_price.index )\n",
        "fig.show()"
      ],
      "metadata": {
        "id": "6Gutri0wt5L0"
      },
      "execution_count": null,
      "outputs": []
    },
    {
      "cell_type": "code",
      "source": [
        "year_price = df.groupby('Year')['Price'].mean()\n",
        "fig = px.bar(year_price , color = year_price.index )\n",
        "fig.show()"
      ],
      "metadata": {
        "id": "u0s0CgFot7yW"
      },
      "execution_count": null,
      "outputs": []
    },
    {
      "cell_type": "code",
      "source": [
        "sns.pairplot(df );"
      ],
      "metadata": {
        "id": "ezdzFkEpt-a_"
      },
      "execution_count": null,
      "outputs": []
    },
    {
      "cell_type": "code",
      "source": [
        "sns.boxplot( x='Kilometers_Driven', data=df);\n"
      ],
      "metadata": {
        "id": "EKVmlshtt_YY"
      },
      "execution_count": null,
      "outputs": []
    },
    {
      "cell_type": "code",
      "source": [
        "sns.boxplot( x='Price', data=df);\n"
      ],
      "metadata": {
        "id": "2zWDw63ouBzX"
      },
      "execution_count": null,
      "outputs": []
    },
    {
      "cell_type": "code",
      "source": [
        "sns.boxplot( x='Power', data=df);"
      ],
      "metadata": {
        "id": "8D_hLO0iuFnB"
      },
      "execution_count": null,
      "outputs": []
    },
    {
      "cell_type": "code",
      "source": [
        "sns.boxplot( x='Engine', data=df);\n"
      ],
      "metadata": {
        "id": "EX3ZoadguIKJ"
      },
      "execution_count": null,
      "outputs": []
    },
    {
      "cell_type": "code",
      "source": [
        "df.drop(df[df['Kilometers_Driven'] > 100000].index, axis = 0, inplace = True)\n",
        "df.drop(df[df['Power'] > 480].index, axis = 0, inplace = True)\n",
        "df.drop(df[df['Engine'] > 5000].index, axis = 0, inplace = True)"
      ],
      "metadata": {
        "id": "uTqPRB3juMA4"
      },
      "execution_count": null,
      "outputs": []
    },
    {
      "cell_type": "code",
      "source": [
        "df = pd.get_dummies(df, columns = ['Location', 'Fuel_Type','Transmission','Owner_Type'])\n",
        "df.head(2)"
      ],
      "metadata": {
        "colab": {
          "base_uri": "https://localhost:8080/",
          "height": 223
        },
        "id": "sxjzYGw7lw_h",
        "outputId": "9875c555-f734-47e6-98c1-ec9c3319c80c"
      },
      "execution_count": 15,
      "outputs": [
        {
          "output_type": "execute_result",
          "data": {
            "text/plain": [
              "   Year  Kilometers_Driven  Mileage  Engine   Power  Seats  Price  \\\n",
              "0  2010              72000    26.60   998.0   998.0    5.0   1.75   \n",
              "1  2015              41000    19.67  1582.0  1582.0    5.0  12.50   \n",
              "\n",
              "   Location_Ahmedabad  Location_Bangalore  Location_Chennai  ...  \\\n",
              "0                   0                   0                 0  ...   \n",
              "1                   0                   0                 0  ...   \n",
              "\n",
              "   Fuel_Type_Diesel  Fuel_Type_Electric  Fuel_Type_LPG  Fuel_Type_Petrol  \\\n",
              "0                 0                   0              0                 0   \n",
              "1                 1                   0              0                 0   \n",
              "\n",
              "   Transmission_Automatic  Transmission_Manual  Owner_Type_First  \\\n",
              "0                       0                    1                 1   \n",
              "1                       0                    1                 1   \n",
              "\n",
              "   Owner_Type_Fourth & Above  Owner_Type_Second  Owner_Type_Third  \n",
              "0                          0                  0                 0  \n",
              "1                          0                  0                 0  \n",
              "\n",
              "[2 rows x 29 columns]"
            ],
            "text/html": [
              "\n",
              "\n",
              "  <div id=\"df-bc990bc6-a480-4207-93ad-26754c7f3fb7\">\n",
              "    <div class=\"colab-df-container\">\n",
              "      <div>\n",
              "<style scoped>\n",
              "    .dataframe tbody tr th:only-of-type {\n",
              "        vertical-align: middle;\n",
              "    }\n",
              "\n",
              "    .dataframe tbody tr th {\n",
              "        vertical-align: top;\n",
              "    }\n",
              "\n",
              "    .dataframe thead th {\n",
              "        text-align: right;\n",
              "    }\n",
              "</style>\n",
              "<table border=\"1\" class=\"dataframe\">\n",
              "  <thead>\n",
              "    <tr style=\"text-align: right;\">\n",
              "      <th></th>\n",
              "      <th>Year</th>\n",
              "      <th>Kilometers_Driven</th>\n",
              "      <th>Mileage</th>\n",
              "      <th>Engine</th>\n",
              "      <th>Power</th>\n",
              "      <th>Seats</th>\n",
              "      <th>Price</th>\n",
              "      <th>Location_Ahmedabad</th>\n",
              "      <th>Location_Bangalore</th>\n",
              "      <th>Location_Chennai</th>\n",
              "      <th>...</th>\n",
              "      <th>Fuel_Type_Diesel</th>\n",
              "      <th>Fuel_Type_Electric</th>\n",
              "      <th>Fuel_Type_LPG</th>\n",
              "      <th>Fuel_Type_Petrol</th>\n",
              "      <th>Transmission_Automatic</th>\n",
              "      <th>Transmission_Manual</th>\n",
              "      <th>Owner_Type_First</th>\n",
              "      <th>Owner_Type_Fourth &amp; Above</th>\n",
              "      <th>Owner_Type_Second</th>\n",
              "      <th>Owner_Type_Third</th>\n",
              "    </tr>\n",
              "  </thead>\n",
              "  <tbody>\n",
              "    <tr>\n",
              "      <th>0</th>\n",
              "      <td>2010</td>\n",
              "      <td>72000</td>\n",
              "      <td>26.60</td>\n",
              "      <td>998.0</td>\n",
              "      <td>998.0</td>\n",
              "      <td>5.0</td>\n",
              "      <td>1.75</td>\n",
              "      <td>0</td>\n",
              "      <td>0</td>\n",
              "      <td>0</td>\n",
              "      <td>...</td>\n",
              "      <td>0</td>\n",
              "      <td>0</td>\n",
              "      <td>0</td>\n",
              "      <td>0</td>\n",
              "      <td>0</td>\n",
              "      <td>1</td>\n",
              "      <td>1</td>\n",
              "      <td>0</td>\n",
              "      <td>0</td>\n",
              "      <td>0</td>\n",
              "    </tr>\n",
              "    <tr>\n",
              "      <th>1</th>\n",
              "      <td>2015</td>\n",
              "      <td>41000</td>\n",
              "      <td>19.67</td>\n",
              "      <td>1582.0</td>\n",
              "      <td>1582.0</td>\n",
              "      <td>5.0</td>\n",
              "      <td>12.50</td>\n",
              "      <td>0</td>\n",
              "      <td>0</td>\n",
              "      <td>0</td>\n",
              "      <td>...</td>\n",
              "      <td>1</td>\n",
              "      <td>0</td>\n",
              "      <td>0</td>\n",
              "      <td>0</td>\n",
              "      <td>0</td>\n",
              "      <td>1</td>\n",
              "      <td>1</td>\n",
              "      <td>0</td>\n",
              "      <td>0</td>\n",
              "      <td>0</td>\n",
              "    </tr>\n",
              "  </tbody>\n",
              "</table>\n",
              "<p>2 rows × 29 columns</p>\n",
              "</div>\n",
              "      <button class=\"colab-df-convert\" onclick=\"convertToInteractive('df-bc990bc6-a480-4207-93ad-26754c7f3fb7')\"\n",
              "              title=\"Convert this dataframe to an interactive table.\"\n",
              "              style=\"display:none;\">\n",
              "\n",
              "  <svg xmlns=\"http://www.w3.org/2000/svg\" height=\"24px\"viewBox=\"0 0 24 24\"\n",
              "       width=\"24px\">\n",
              "    <path d=\"M0 0h24v24H0V0z\" fill=\"none\"/>\n",
              "    <path d=\"M18.56 5.44l.94 2.06.94-2.06 2.06-.94-2.06-.94-.94-2.06-.94 2.06-2.06.94zm-11 1L8.5 8.5l.94-2.06 2.06-.94-2.06-.94L8.5 2.5l-.94 2.06-2.06.94zm10 10l.94 2.06.94-2.06 2.06-.94-2.06-.94-.94-2.06-.94 2.06-2.06.94z\"/><path d=\"M17.41 7.96l-1.37-1.37c-.4-.4-.92-.59-1.43-.59-.52 0-1.04.2-1.43.59L10.3 9.45l-7.72 7.72c-.78.78-.78 2.05 0 2.83L4 21.41c.39.39.9.59 1.41.59.51 0 1.02-.2 1.41-.59l7.78-7.78 2.81-2.81c.8-.78.8-2.07 0-2.86zM5.41 20L4 18.59l7.72-7.72 1.47 1.35L5.41 20z\"/>\n",
              "  </svg>\n",
              "      </button>\n",
              "\n",
              "\n",
              "\n",
              "    <div id=\"df-4c010275-54db-4743-bef5-b32f591ac43e\">\n",
              "      <button class=\"colab-df-quickchart\" onclick=\"quickchart('df-4c010275-54db-4743-bef5-b32f591ac43e')\"\n",
              "              title=\"Suggest charts.\"\n",
              "              style=\"display:none;\">\n",
              "\n",
              "<svg xmlns=\"http://www.w3.org/2000/svg\" height=\"24px\"viewBox=\"0 0 24 24\"\n",
              "     width=\"24px\">\n",
              "    <g>\n",
              "        <path d=\"M19 3H5c-1.1 0-2 .9-2 2v14c0 1.1.9 2 2 2h14c1.1 0 2-.9 2-2V5c0-1.1-.9-2-2-2zM9 17H7v-7h2v7zm4 0h-2V7h2v10zm4 0h-2v-4h2v4z\"/>\n",
              "    </g>\n",
              "</svg>\n",
              "      </button>\n",
              "    </div>\n",
              "\n",
              "<style>\n",
              "  .colab-df-quickchart {\n",
              "    background-color: #E8F0FE;\n",
              "    border: none;\n",
              "    border-radius: 50%;\n",
              "    cursor: pointer;\n",
              "    display: none;\n",
              "    fill: #1967D2;\n",
              "    height: 32px;\n",
              "    padding: 0 0 0 0;\n",
              "    width: 32px;\n",
              "  }\n",
              "\n",
              "  .colab-df-quickchart:hover {\n",
              "    background-color: #E2EBFA;\n",
              "    box-shadow: 0px 1px 2px rgba(60, 64, 67, 0.3), 0px 1px 3px 1px rgba(60, 64, 67, 0.15);\n",
              "    fill: #174EA6;\n",
              "  }\n",
              "\n",
              "  [theme=dark] .colab-df-quickchart {\n",
              "    background-color: #3B4455;\n",
              "    fill: #D2E3FC;\n",
              "  }\n",
              "\n",
              "  [theme=dark] .colab-df-quickchart:hover {\n",
              "    background-color: #434B5C;\n",
              "    box-shadow: 0px 1px 3px 1px rgba(0, 0, 0, 0.15);\n",
              "    filter: drop-shadow(0px 1px 2px rgba(0, 0, 0, 0.3));\n",
              "    fill: #FFFFFF;\n",
              "  }\n",
              "</style>\n",
              "\n",
              "    <script>\n",
              "      async function quickchart(key) {\n",
              "        const containerElement = document.querySelector('#' + key);\n",
              "        const charts = await google.colab.kernel.invokeFunction(\n",
              "            'suggestCharts', [key], {});\n",
              "      }\n",
              "    </script>\n",
              "\n",
              "      <script>\n",
              "\n",
              "function displayQuickchartButton(domScope) {\n",
              "  let quickchartButtonEl =\n",
              "    domScope.querySelector('#df-4c010275-54db-4743-bef5-b32f591ac43e button.colab-df-quickchart');\n",
              "  quickchartButtonEl.style.display =\n",
              "    google.colab.kernel.accessAllowed ? 'block' : 'none';\n",
              "}\n",
              "\n",
              "        displayQuickchartButton(document);\n",
              "      </script>\n",
              "      <style>\n",
              "    .colab-df-container {\n",
              "      display:flex;\n",
              "      flex-wrap:wrap;\n",
              "      gap: 12px;\n",
              "    }\n",
              "\n",
              "    .colab-df-convert {\n",
              "      background-color: #E8F0FE;\n",
              "      border: none;\n",
              "      border-radius: 50%;\n",
              "      cursor: pointer;\n",
              "      display: none;\n",
              "      fill: #1967D2;\n",
              "      height: 32px;\n",
              "      padding: 0 0 0 0;\n",
              "      width: 32px;\n",
              "    }\n",
              "\n",
              "    .colab-df-convert:hover {\n",
              "      background-color: #E2EBFA;\n",
              "      box-shadow: 0px 1px 2px rgba(60, 64, 67, 0.3), 0px 1px 3px 1px rgba(60, 64, 67, 0.15);\n",
              "      fill: #174EA6;\n",
              "    }\n",
              "\n",
              "    [theme=dark] .colab-df-convert {\n",
              "      background-color: #3B4455;\n",
              "      fill: #D2E3FC;\n",
              "    }\n",
              "\n",
              "    [theme=dark] .colab-df-convert:hover {\n",
              "      background-color: #434B5C;\n",
              "      box-shadow: 0px 1px 3px 1px rgba(0, 0, 0, 0.15);\n",
              "      filter: drop-shadow(0px 1px 2px rgba(0, 0, 0, 0.3));\n",
              "      fill: #FFFFFF;\n",
              "    }\n",
              "  </style>\n",
              "\n",
              "      <script>\n",
              "        const buttonEl =\n",
              "          document.querySelector('#df-bc990bc6-a480-4207-93ad-26754c7f3fb7 button.colab-df-convert');\n",
              "        buttonEl.style.display =\n",
              "          google.colab.kernel.accessAllowed ? 'block' : 'none';\n",
              "\n",
              "        async function convertToInteractive(key) {\n",
              "          const element = document.querySelector('#df-bc990bc6-a480-4207-93ad-26754c7f3fb7');\n",
              "          const dataTable =\n",
              "            await google.colab.kernel.invokeFunction('convertToInteractive',\n",
              "                                                     [key], {});\n",
              "          if (!dataTable) return;\n",
              "\n",
              "          const docLinkHtml = 'Like what you see? Visit the ' +\n",
              "            '<a target=\"_blank\" href=https://colab.research.google.com/notebooks/data_table.ipynb>data table notebook</a>'\n",
              "            + ' to learn more about interactive tables.';\n",
              "          element.innerHTML = '';\n",
              "          dataTable['output_type'] = 'display_data';\n",
              "          await google.colab.output.renderOutput(dataTable, element);\n",
              "          const docLink = document.createElement('div');\n",
              "          docLink.innerHTML = docLinkHtml;\n",
              "          element.appendChild(docLink);\n",
              "        }\n",
              "      </script>\n",
              "    </div>\n",
              "  </div>\n"
            ]
          },
          "metadata": {},
          "execution_count": 15
        }
      ]
    },
    {
      "cell_type": "code",
      "source": [
        "from sklearn.preprocessing import StandardScaler\n",
        "\n",
        "scaler = StandardScaler()\n",
        "scaled_data = scaler.fit_transform(df)\n",
        "df = pd.DataFrame(scaled_data,\n",
        "\t\t\t\t\t\tcolumns=df.columns)\n",
        "df.head()"
      ],
      "metadata": {
        "id": "VpjXEzM1mzg4"
      },
      "execution_count": null,
      "outputs": []
    },
    {
      "cell_type": "code",
      "source": [
        "x = df.drop('Price', axis=1).values\n",
        "\n",
        "y = df['Price'].values\n",
        "\n",
        "print(x.shape)\n",
        "print(y.shape)\n"
      ],
      "metadata": {
        "id": "BBEhI5M2mNyH"
      },
      "execution_count": null,
      "outputs": []
    },
    {
      "cell_type": "code",
      "source": [
        "\n",
        "class LinearRegression:\n",
        "\n",
        "    def __init__(self, l_rate=0.0001, iterations=1000):\n",
        "        self.l_rate = l_rate\n",
        "        self.iterations = iterations\n",
        "\n",
        "    def fitGD(self, x, y):\n",
        "        self.cost = []\n",
        "        self.theta = np.zeros((1 + x.shape[1]))\n",
        "        n = x.shape[0]\n",
        "\n",
        "        for i in range(self.iterations):\n",
        "            y_pred = self.theta[0] + np.dot(x, self.theta[1:])\n",
        "            mse = (1/n) * np.sum((y_pred - y)**2)\n",
        "            self.cost.append(mse)\n",
        "\n",
        "\n",
        "            d_theta1 = (2/n) * np.dot(x.T, (y_pred - y))\n",
        "            d_theta0 = (2/n) * np.sum(y_pred - y)\n",
        "\n",
        "\n",
        "            self.theta[1:] = self.theta[1:] - self.l_rate * d_theta1\n",
        "            self.theta[0] = self.theta[0] - self.l_rate * d_theta0\n",
        "        return self\n",
        "\n",
        "\n",
        "    def predictGD(self, x):\n",
        "        return self.theta[0] + np.dot(x, self.theta[1:])\n",
        "\n",
        "\n",
        "    def fitNQ(self,x, y):\n",
        "        z = np.ones((x.shape[0],1))\n",
        "        x = np.append(z, x, axis=1)\n",
        "        self.thetas = np.linalg.pinv(x.T.dot(x)).dot(x.T).dot(y)\n",
        "\n",
        "        return self\n",
        "\n",
        "    def predictNQ(self, x):\n",
        "        z = np.ones((x.shape[0],1))\n",
        "        x = np.append(z, x, axis=1)\n",
        "        return np.dot(x, self.thetas)"
      ],
      "metadata": {
        "id": "FqLTo_S-mQ4Q"
      },
      "execution_count": 27,
      "outputs": []
    },
    {
      "cell_type": "code",
      "source": [
        "def scale(x):\n",
        "    x_scaled = x - np.mean(x, axis=0)\n",
        "    x_scaled = x_scaled / np.std(x_scaled, axis=0)\n",
        "    return x_scaled"
      ],
      "metadata": {
        "id": "v6ph0d7FmT9a"
      },
      "execution_count": 28,
      "outputs": []
    },
    {
      "cell_type": "code",
      "source": [
        "x_sd= scale(x)\n",
        "lr = LinearRegression()\n",
        "lr.fitGD(x, y)\n",
        "lr.fitNQ(x, y)"
      ],
      "metadata": {
        "colab": {
          "base_uri": "https://localhost:8080/"
        },
        "id": "guazM1zomUea",
        "outputId": "b8ce7bb0-7c1a-41b1-dfbf-7ed3034a7f2c"
      },
      "execution_count": 29,
      "outputs": [
        {
          "output_type": "execute_result",
          "data": {
            "text/plain": [
              "<__main__.LinearRegression at 0x79fd4ff7c1f0>"
            ]
          },
          "metadata": {},
          "execution_count": 29
        }
      ]
    },
    {
      "cell_type": "code",
      "source": [
        "print(\"theta_0= \", lr.theta[0])\n",
        "print(\"theta_1= \", lr.theta[1])\n",
        "print(\"theta_2= \", lr.theta[2])"
      ],
      "metadata": {
        "colab": {
          "base_uri": "https://localhost:8080/"
        },
        "id": "9OomuEsVnXqy",
        "outputId": "96d35ba6-b246-4714-9a4d-a5f0f4586061"
      },
      "execution_count": 30,
      "outputs": [
        {
          "output_type": "stream",
          "name": "stdout",
          "text": [
            "theta_0=  -2.9439300123584334e-18\n",
            "theta_1=  0.052681528836546684\n",
            "theta_2=  -0.0032754257716349207\n"
          ]
        }
      ]
    },
    {
      "cell_type": "code",
      "source": [
        "print(\"theta_0= \", lr.thetas[0])\n",
        "print(\"theta_1= \", lr.thetas[1])\n",
        "print(\"theta_2= \", lr.thetas[2])"
      ],
      "metadata": {
        "colab": {
          "base_uri": "https://localhost:8080/"
        },
        "id": "fyi0WiSXneul",
        "outputId": "073060b7-b016-4f3a-acda-dfa52a57933d"
      },
      "execution_count": 31,
      "outputs": [
        {
          "output_type": "stream",
          "name": "stdout",
          "text": [
            "theta_0=  2.8519938147231194e-16\n",
            "theta_1=  0.3245815950556436\n",
            "theta_2=  0.000492938752243775\n"
          ]
        }
      ]
    },
    {
      "cell_type": "code",
      "source": [
        "y_pred = lr.predictGD(x_sd)\n",
        "y_predNQ = lr.predictNQ(x)\n",
        "print(\"y_pred:\",y_pred)\n",
        "print(\"y_predNQ:\",y_predNQ)\n",
        "print(\"y_actual:\",y)"
      ],
      "metadata": {
        "colab": {
          "base_uri": "https://localhost:8080/"
        },
        "id": "gfnOiiYlnfIz",
        "outputId": "756dd5c8-9863-438e-dde6-5e95781b202d"
      },
      "execution_count": 32,
      "outputs": [
        {
          "output_type": "stream",
          "name": "stdout",
          "text": [
            "y_pred: [-0.49200093 -0.05354941 -0.37880131 ...  0.15495565 -0.44495697\n",
            " -0.32883754]\n",
            "y_predNQ: [-1.06420354  0.06352261 -0.76821486 ... -0.03869236 -0.89215109\n",
            " -0.91466472]\n",
            "y_actual: [-0.69093384  0.27000402 -0.44511253 ... -0.58813584 -0.61048323\n",
            " -0.62389166]\n"
          ]
        }
      ]
    },
    {
      "cell_type": "code",
      "source": [
        "errors = np.sum((y_pred - y)**2)\n",
        "sst = np.sum((y - np.mean(y))**2)\n",
        "r2_GD = 1 - (errors/sst)\n",
        "\n",
        "adusted_r2_GD= 1-((1-r2_GD) * (x.shape[0] -1)/(x.shape[0] - x.shape[1] - 1))\n",
        "print (\"adusted_r2_GD:\",adusted_r2_GD)\n",
        "\n",
        "\n",
        "errors = np.sum((y_predNQ - y)**2)\n",
        "sst = np.sum((y - np.mean(y))**2)\n",
        "r2_NQ = 1 - (errors/sst)\n",
        "\n",
        "adusted_r2_NQ= 1-((1-r2_NQ) * (x.shape[0] -1)/(x.shape[0] - x.shape[1] - 1))\n",
        "print (\"adusted_r2_NQ:\",adusted_r2_NQ)"
      ],
      "metadata": {
        "colab": {
          "base_uri": "https://localhost:8080/"
        },
        "id": "zxwytkggniJ6",
        "outputId": "0b799d5d-9f91-41ee-9784-7f1077f8272f"
      },
      "execution_count": 33,
      "outputs": [
        {
          "output_type": "stream",
          "name": "stdout",
          "text": [
            "adusted_r2_GD: 0.43250263366525743\n",
            "adusted_r2_NQ: 0.6466410828373206\n"
          ]
        }
      ]
    },
    {
      "cell_type": "code",
      "source": [
        "\n",
        "\n",
        "from sklearn.model_selection import train_test_split\n",
        "x_train, x_test, y_train, y_test = train_test_split(x, y, test_size=0.2, random_state=42)\n",
        "\n",
        "# Model Building\n",
        "from sklearn.linear_model import LinearRegression\n",
        "\n",
        "# Linear Regression\n",
        "lr = LinearRegression()\n",
        "lr.fit(x_train, y_train)\n",
        "\n",
        "# Model Evaluation\n",
        "from sklearn.metrics import mean_squared_error, r2_score\n",
        "\n",
        "# Predictions\n",
        "y_pred = lr.predict(x_test)\n",
        "\n",
        "# Model Evaluation\n",
        "print('RMSE:', np.sqrt(mean_squared_error(y_test, y_pred)))\n",
        "print('R2:', r2_score(y_test, y_pred))\n"
      ],
      "metadata": {
        "colab": {
          "base_uri": "https://localhost:8080/"
        },
        "id": "_jQrObUinrCu",
        "outputId": "5c9ce5f2-d8fa-47b6-f477-1fa8adeabd87"
      },
      "execution_count": 34,
      "outputs": [
        {
          "output_type": "stream",
          "name": "stdout",
          "text": [
            "RMSE: 0.8817338300907931\n",
            "R2: 0.20934647625235359\n"
          ]
        }
      ]
    },
    {
      "cell_type": "code",
      "source": [
        "from sklearn.linear_model import Ridge\n",
        "\n",
        "ridge = Ridge()\n",
        "ridge.fit(x_train, y_train)\n",
        "\n",
        "# Predictions\n",
        "y_pred = ridge.predict(x_test)\n",
        "\n",
        "# Model Evaluation\n",
        "print('RMSE:', np.sqrt(mean_squared_error(y_test, y_pred)))\n",
        "print('R2:', r2_score(y_test, y_pred))"
      ],
      "metadata": {
        "colab": {
          "base_uri": "https://localhost:8080/"
        },
        "id": "_nO5yEnZnyY6",
        "outputId": "9b3bcb0b-e5c8-4408-da2f-f44a1c202ac9"
      },
      "execution_count": 35,
      "outputs": [
        {
          "output_type": "stream",
          "name": "stdout",
          "text": [
            "RMSE: 0.8904101463570997\n",
            "R2: 0.19370975911026278\n"
          ]
        }
      ]
    },
    {
      "cell_type": "code",
      "source": [
        "# Ridge Regression\n",
        "from sklearn.linear_model import Lasso\n",
        "\n",
        "lasso = Lasso()\n",
        "lasso.fit(x_train, y_train)\n",
        "\n",
        "# Predictions\n",
        "y_pred = lasso.predict(x_test)\n",
        "\n",
        "# Model Evaluation\n",
        "print('RMSE:', np.sqrt(mean_squared_error(y_test, y_pred)))\n",
        "print('R2:', r2_score(y_test, y_pred))"
      ],
      "metadata": {
        "colab": {
          "base_uri": "https://localhost:8080/"
        },
        "id": "BdSdhkOvn7B2",
        "outputId": "99483000-0ae0-4f0b-e83c-66db190cb591"
      },
      "execution_count": 36,
      "outputs": [
        {
          "output_type": "stream",
          "name": "stdout",
          "text": [
            "RMSE: 0.9917008080462937\n",
            "R2: -0.0001670366620361019\n"
          ]
        }
      ]
    },
    {
      "cell_type": "code",
      "source": [
        "for alpha in [0.001, 0.01, 0.1, 1, 10, 100]:\n",
        "    ridge = Ridge(alpha=alpha)\n",
        "    ridge.fit(x_train, y_train)\n",
        "    y_pred = ridge.predict(x_test)\n",
        "    print('alpha:', alpha)\n",
        "    print('RMSE:', np.sqrt(mean_squared_error(y_test, y_pred)))\n",
        "    print('R2:', r2_score(y_test, y_pred))\n",
        "    print('-----------------------------')"
      ],
      "metadata": {
        "colab": {
          "base_uri": "https://localhost:8080/"
        },
        "id": "QhOJaRPEn_g6",
        "outputId": "05e77e94-4aa4-466e-922c-d9fa359c0cf5"
      },
      "execution_count": 37,
      "outputs": [
        {
          "output_type": "stream",
          "name": "stdout",
          "text": [
            "alpha: 0.001\n",
            "RMSE: 0.8911017502018328\n",
            "R2: 0.19245674105611532\n",
            "-----------------------------\n",
            "alpha: 0.01\n",
            "RMSE: 0.8910955058410112\n",
            "R2: 0.19246805867235595\n",
            "-----------------------------\n",
            "alpha: 0.1\n",
            "RMSE: 0.8910330759541968\n",
            "R2: 0.19258120560524072\n",
            "-----------------------------\n",
            "alpha: 1\n",
            "RMSE: 0.8904101463570997\n",
            "R2: 0.19370975911026278\n",
            "-----------------------------\n",
            "alpha: 10\n",
            "RMSE: 0.8843149659284085\n",
            "R2: 0.2047106754894269\n",
            "-----------------------------\n",
            "alpha: 100\n",
            "RMSE: 0.8344424387918014\n",
            "R2: 0.29188471286461704\n",
            "-----------------------------\n"
          ]
        }
      ]
    },
    {
      "cell_type": "code",
      "source": [
        "from sklearn.preprocessing import PolynomialFeatures\n",
        "from sklearn.pipeline import make_pipeline\n",
        "\n",
        "poly = make_pipeline(PolynomialFeatures(2), Ridge())\n",
        "poly.fit(x_train, y_train)\n",
        "\n",
        "# Predictions\n",
        "y_pred = poly.predict(x_test)\n",
        "\n",
        "# Model Evaluation\n",
        "print('RMSE:', np.sqrt(mean_squared_error(y_test, y_pred)))\n",
        "print('R2:', r2_score(y_test, y_pred))\n",
        "print('R2:', poly.score(x_test, y_test))\n"
      ],
      "metadata": {
        "colab": {
          "base_uri": "https://localhost:8080/"
        },
        "id": "3wNyAM2ooGLs",
        "outputId": "fd07284a-d67f-4f34-f7cd-2b199565bec5"
      },
      "execution_count": 38,
      "outputs": [
        {
          "output_type": "stream",
          "name": "stdout",
          "text": [
            "RMSE: 3.4552654185018543\n",
            "R2: -11.141547131662353\n",
            "R2: -11.141547131662353\n"
          ]
        }
      ]
    },
    {
      "cell_type": "code",
      "source": [
        "for degree in [2, 3, 4, 5]:\n",
        "    poly = make_pipeline(PolynomialFeatures(degree), Ridge())\n",
        "    poly.fit(x_train, y_train)\n",
        "    y_pred = poly.predict(x_test)\n",
        "    print('degree:', degree)\n",
        "    print('RMSE:', np.sqrt(mean_squared_error(y_test, y_pred)))\n",
        "    print('R2:', r2_score(y_test, y_pred))\n",
        "    print('-----------------------------')"
      ],
      "metadata": {
        "colab": {
          "base_uri": "https://localhost:8080/"
        },
        "id": "MsNRjSMzoGzp",
        "outputId": "1d5f4447-6401-48c0-ef56-e288b4efd1d7"
      },
      "execution_count": null,
      "outputs": [
        {
          "output_type": "stream",
          "name": "stdout",
          "text": [
            "degree: 2\n",
            "RMSE: 3.4552654185018543\n",
            "R2: -11.141547131662353\n",
            "-----------------------------\n",
            "degree: 3\n",
            "RMSE: 5.776369587554172\n",
            "R2: -32.93291337169733\n",
            "-----------------------------\n",
            "degree: 4\n",
            "RMSE: 6568.790836857631\n",
            "R2: -43881560.11110972\n",
            "-----------------------------\n"
          ]
        }
      ]
    },
    {
      "cell_type": "code",
      "source": [],
      "metadata": {
        "id": "6dst0iYVoLkY"
      },
      "execution_count": null,
      "outputs": []
    },
    {
      "cell_type": "code",
      "source": [],
      "metadata": {
        "id": "lxMCQkCIoKJ_"
      },
      "execution_count": null,
      "outputs": []
    },
    {
      "cell_type": "code",
      "source": [],
      "metadata": {
        "id": "s743rmLWoC3c"
      },
      "execution_count": null,
      "outputs": []
    },
    {
      "cell_type": "code",
      "source": [],
      "metadata": {
        "id": "-cj21nW3n-up"
      },
      "execution_count": null,
      "outputs": []
    }
  ]
}