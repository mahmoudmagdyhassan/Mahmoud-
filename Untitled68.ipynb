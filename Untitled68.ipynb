{
  "nbformat": 4,
  "nbformat_minor": 0,
  "metadata": {
    "colab": {
      "provenance": [],
      "authorship_tag": "ABX9TyOIKWqMHHPvAtf2EvBzOk1v",
      "include_colab_link": true
    },
    "kernelspec": {
      "name": "python3",
      "display_name": "Python 3"
    },
    "language_info": {
      "name": "python"
    }
  },
  "cells": [
    {
      "cell_type": "markdown",
      "metadata": {
        "id": "view-in-github",
        "colab_type": "text"
      },
      "source": [
        "<a href=\"https://colab.research.google.com/github/mahmoudmagdyhassan/Mahmoud-/blob/main/Untitled68.ipynb\" target=\"_parent\"><img src=\"https://colab.research.google.com/assets/colab-badge.svg\" alt=\"Open In Colab\"/></a>"
      ]
    },
    {
      "cell_type": "code",
      "execution_count": null,
      "metadata": {
        "id": "OUOljN01qcQC"
      },
      "outputs": [],
      "source": [
        "!pip install -q streamlit\n",
        "!pip install numpy==1.21.5\n",
        "!pip install pandas==1.4.2\n",
        "!pip install plotly==5.6.0\n",
        "!pip install pipreqs"
      ]
    },
    {
      "cell_type": "code",
      "source": [
        "%%writefile app20.py\n",
        "\n",
        "import streamlit as st\n",
        "import pandas as pd\n",
        "import numpy as np\n",
        "\n",
        "st.title('Uber pickups in NYC')\n",
        "\n",
        "\n",
        "DATE_COLUMN = 'date/time'\n",
        "DATA_URL = ('https://s3-us-west-2.amazonaws.com/'\n",
        "         'streamlit-demo-data/uber-raw-data-sep14.csv.gz')\n",
        "@st.cache_data\n",
        "def load_data(nrows):\n",
        "    data = pd.read_csv(DATA_URL, nrows=nrows)\n",
        "    lowercase = lambda x: str(x).lower()\n",
        "    data.rename(lowercase, axis='columns', inplace=True)\n",
        "    data[DATE_COLUMN] = pd.to_datetime(data[DATE_COLUMN])\n",
        "    return data\n",
        "\n",
        "    # Create a text element and let the reader know the data is loading.\n",
        "data_load_state = st.text('Loading data...')\n",
        "# Load 10,000 rows of data into the dataframe.\n",
        "data = load_data(10000)\n",
        "# Notify the reader that the data was successfully loaded.\n",
        "data_load_state.text('Loading data...done!')\n",
        "\n",
        "if st.checkbox('Show raw data'):\n",
        "    st.subheader('Raw data')\n",
        "    st.write(data)\n",
        "\n",
        "\n",
        "\n",
        "st.subheader('Number of pickups by hour')\n",
        "\n",
        "hist_values = np.histogram(\n",
        "    data[DATE_COLUMN].dt.hour, bins=24, range=(0,24))[0]\n",
        "\n",
        "st.bar_chart(hist_values)\n",
        "\n",
        "st.subheader('Map of all pickups')\n",
        "\n",
        "st.map(data)\n",
        "\n",
        "\n",
        "hour_to_filter = st.slider('hour', 0, 23, 17)  # min: 0h, max: 23h, default: 17h\n",
        "filtered_data = data[data[DATE_COLUMN].dt.hour == hour_to_filter]\n",
        "st.subheader(f'Map of all pickups at {hour_to_filter}:00')\n",
        "st.map(filtered_data)"
      ],
      "metadata": {
        "colab": {
          "base_uri": "https://localhost:8080/"
        },
        "id": "G9o0xu0BzgFp",
        "outputId": "e88009a8-5d7b-466a-9ea8-b382e7f704aa"
      },
      "execution_count": 20,
      "outputs": [
        {
          "output_type": "stream",
          "name": "stdout",
          "text": [
            "Overwriting app20.py\n"
          ]
        }
      ]
    }
  ]
}