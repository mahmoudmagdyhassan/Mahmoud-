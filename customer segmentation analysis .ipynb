{
  "nbformat": 4,
  "nbformat_minor": 0,
  "metadata": {
    "colab": {
      "private_outputs": true,
      "provenance": [],
      "authorship_tag": "ABX9TyMhIpccFekNOv/DtzLqX3o1",
      "include_colab_link": true
    },
    "kernelspec": {
      "name": "python3",
      "display_name": "Python 3"
    },
    "language_info": {
      "name": "python"
    }
  },
  "cells": [
    {
      "cell_type": "markdown",
      "metadata": {
        "id": "view-in-github",
        "colab_type": "text"
      },
      "source": [
        "<a href=\"https://colab.research.google.com/github/mahmoudmagdyhassan/Mahmoud-/blob/main/customer%20segmentation%20analysis%20.ipynb\" target=\"_parent\"><img src=\"https://colab.research.google.com/assets/colab-badge.svg\" alt=\"Open In Colab\"/></a>"
      ]
    },
    {
      "cell_type": "code",
      "execution_count": null,
      "metadata": {
        "id": "Pk1O8HuQt2fA"
      },
      "outputs": [],
      "source": [
        "import numpy as np\n",
        "import pandas as pd\n",
        "import matplotlib.pyplot as plt\n",
        "import seaborn as sns\n",
        "sns.set()\n",
        "import datetime\n",
        "from yellowbrick.cluster import KElbowVisualizer\n",
        "from sklearn.cluster import KMeans\n",
        "import matplotlib.pyplot as plt\n",
        "import plotly.graph_objects as go\n",
        "import plotly.express as px\n",
        "from sklearn import metrics\n",
        "import warnings\n",
        "import sys\n",
        "if not sys.warnoptions:\n",
        "    warnings.simplefilter(\"ignore\")\n",
        "np.random.seed(42)\n",
        "from plotly.offline import init_notebook_mode, iplot\n",
        "init_notebook_mode(connected=True)\n",
        "\n",
        "import warnings\n",
        "warnings.filterwarnings('ignore')\n",
        "\n",
        "random_state = 50"
      ]
    },
    {
      "cell_type": "code",
      "source": [
        "data = pd.read_csv(\"/content/marketing_campaign.csv\", sep=\"\\t\")\n",
        "data.head(3)"
      ],
      "metadata": {
        "id": "7C0MOy48ufzD"
      },
      "execution_count": null,
      "outputs": []
    },
    {
      "cell_type": "code",
      "source": [
        "data.shape"
      ],
      "metadata": {
        "id": "Cm88R9Y-NBL4"
      },
      "execution_count": null,
      "outputs": []
    },
    {
      "cell_type": "code",
      "source": [
        "def d_types_report(df):\n",
        "    columns=[]\n",
        "    d_types=[]\n",
        "    uniques=[]\n",
        "    n_uniques=[]\n",
        "    null_values=[]\n",
        "    null_values_percentage=[]\n",
        "    rows = df.shape[0]\n",
        "\n",
        "    for i in df.columns:\n",
        "        columns.append(i)\n",
        "        d_types.append(df[i].dtypes)\n",
        "        uniques.append(df[i].unique()[:5])\n",
        "        n_uniques.append(df[i].nunique())\n",
        "        null_values.append(df[i].isna().sum())\n",
        "        null_values_percentage.append(null_values[-1] * 100 / rows)\n",
        "\n",
        "    return pd.DataFrame({\"Columns\": columns, \"Data_Types\": d_types, \"Unique_values\": uniques, \"N_Uniques\": n_uniques,  \"Null_Values\": null_values, \"Null_Values_percentage\": null_values_percentage})\n",
        "\n",
        "d_types_report(data)"
      ],
      "metadata": {
        "id": "Y_GhwujbxleN"
      },
      "execution_count": null,
      "outputs": []
    },
    {
      "cell_type": "code",
      "source": [
        "#remove null value\n",
        "data = data.dropna()"
      ],
      "metadata": {
        "id": "AXYiO25OwR68"
      },
      "execution_count": null,
      "outputs": []
    },
    {
      "cell_type": "code",
      "source": [
        "data.drop(columns=['ID'],inplace=True)\n",
        "data[\"Dt_Customer\"] = pd.to_datetime(data[\"Dt_Customer\"]).dt.date\n",
        "data.Dt_Customer.min(),data.Dt_Customer.max()"
      ],
      "metadata": {
        "id": "HOxnJd-oxPzL"
      },
      "execution_count": null,
      "outputs": []
    },
    {
      "cell_type": "code",
      "source": [
        "data.describe().T"
      ],
      "metadata": {
        "id": "gOx2M7UGx7S1"
      },
      "execution_count": null,
      "outputs": []
    },
    {
      "cell_type": "code",
      "source": [
        "for column in data:\n",
        "    plt.figure(figsize=(8, 6))\n",
        "\n",
        "    if data[column].dtype == 'int64' or data[column].dtype == 'float64':\n",
        "        # Numerical columns\n",
        "        plt.title(f'Distribution of {column}', fontsize=16)\n",
        "        #print(data[column].value_counts(normalize=True))\n",
        "        sns.histplot(data=data[column],kde=True)\n",
        "        plt.xlabel(column, fontsize=14)\n",
        "        plt.ylabel('Frequency', fontsize=14)\n",
        "        plt.xticks(fontsize=12)\n",
        "        plt.yticks(fontsize=12)\n",
        "        plt.show()"
      ],
      "metadata": {
        "id": "tW3zb5Zp0cni"
      },
      "execution_count": null,
      "outputs": []
    },
    {
      "cell_type": "code",
      "source": [
        "for col in ['Education', 'Marital_Status']:\n",
        "    plt.figure(figsize=(8, 6))\n",
        "    plt.title(f'Distribution of {col}', fontsize=16)\n",
        "    print(data[col].value_counts(normalize=True))\n",
        "    sns.histplot(data=data[col])\n",
        "    plt.xlabel(col, fontsize=14)\n",
        "    plt.ylabel('Frequency', fontsize=14)\n",
        "    plt.xticks(fontsize=12)\n",
        "    plt.yticks(fontsize=12)\n",
        "    plt.show()\n",
        "    fig = px.pie(data_frame = data , names = col)\n",
        "    fig.show()"
      ],
      "metadata": {
        "id": "yRzkKi9QxPj1"
      },
      "execution_count": null,
      "outputs": []
    },
    {
      "cell_type": "markdown",
      "source": [
        "#feature engineering\n",
        "\n",
        "```\n",
        "# This is formatted as code\n",
        "```\n",
        "\n"
      ],
      "metadata": {
        "id": "vBeqy52fLWLD"
      }
    },
    {
      "cell_type": "code",
      "source": [
        "data[\"Age\"] = 2023 - data[\"Year_Birth\"]\n",
        "# Total spending on various item\n",
        "data[\"Spent\"] = data[\"MntWines\"] + data[\"MntFruits\"] + data[\"MntMeatProducts\"] + data[\"MntFishProducts\"] + data[\"MntSweetProducts\"] + data[\"MntGoldProds\"]\n",
        "data.head(3)"
      ],
      "metadata": {
        "id": "e5X8WRgpM82Z"
      },
      "execution_count": null,
      "outputs": []
    },
    {
      "cell_type": "code",
      "source": [
        "data= data.drop(['Year_Birth','Dt_Customer','MntWines',\"MntFruits\",\"MntMeatProducts\",'MntFishProducts',\n",
        "'MntSweetProducts','MntGoldProds'], axis=1)"
      ],
      "metadata": {
        "id": "1X8A7NgZrPVS"
      },
      "execution_count": null,
      "outputs": []
    },
    {
      "cell_type": "code",
      "source": [
        "data.head(10)"
      ],
      "metadata": {
        "id": "YQOCdKynmThf"
      },
      "execution_count": null,
      "outputs": []
    },
    {
      "cell_type": "markdown",
      "source": [
        "#**outliar**"
      ],
      "metadata": {
        "id": "6MvOKKH4P_Xi"
      }
    },
    {
      "cell_type": "code",
      "source": [
        "for column in ['Age', 'Spent','Income']:\n",
        "    plt.figure(figsize=(8, 6))\n",
        "\n",
        "    if data[column].dtype == 'int64' or data[column].dtype == 'float64':\n",
        "        # Numerical columns\n",
        "        plt.title(f'Distribution of {column}', fontsize=16)\n",
        "        sns.boxplot(data=data[column])\n",
        "        plt.xlabel(column, fontsize=14)\n",
        "        plt.ylabel('Frequency', fontsize=14)\n",
        "        plt.xticks(fontsize=12)\n",
        "        plt.yticks(fontsize=12)\n",
        "        plt.show()"
      ],
      "metadata": {
        "id": "A7ccnx_d25fL"
      },
      "execution_count": null,
      "outputs": []
    },
    {
      "cell_type": "code",
      "source": [
        "# Removing outliers for \"Age\" and \"Income\" 'spent\n",
        "data_new = data[(data[\"Age\"] < 90) & (data[\"Income\"] < 100000)\n",
        "&(data[\"Spent\"] < 2500)]\n",
        "print(\"The total number of data-points after removing the outliers are:\", len(data_new))"
      ],
      "metadata": {
        "id": "Rah5gXgZQBpK"
      },
      "execution_count": null,
      "outputs": []
    },
    {
      "cell_type": "code",
      "source": [
        "cat_cols = data_new.select_dtypes(include='object').columns.tolist()\n",
        "num_cols =data_new.select_dtypes(exclude='object').columns.tolist()\n",
        "num_cols"
      ],
      "metadata": {
        "id": "aZ2RpCMfkMfg"
      },
      "execution_count": null,
      "outputs": []
    },
    {
      "cell_type": "code",
      "source": [
        "data_new.corr()"
      ],
      "metadata": {
        "id": "5niLxaYukjB9"
      },
      "execution_count": null,
      "outputs": []
    },
    {
      "cell_type": "code",
      "source": [
        "plt.figure(figsize=(20, 20))\n",
        "sns.heatmap(data.corr(),annot=True)"
      ],
      "metadata": {
        "id": "fiHR5X0a5Wvh"
      },
      "execution_count": null,
      "outputs": []
    },
    {
      "cell_type": "code",
      "source": [
        "!pip install category_encoders"
      ],
      "metadata": {
        "id": "DSbcZfmx8OrL"
      },
      "execution_count": null,
      "outputs": []
    },
    {
      "cell_type": "code",
      "source": [
        "from sklearn.pipeline import make_pipeline\n",
        "from sklearn.compose import ColumnTransformer\n",
        "from sklearn.pipeline import Pipeline\n",
        "from sklearn.preprocessing import StandardScaler ,PolynomialFeatures\n",
        "from sklearn.model_selection import train_test_split\n",
        "from sklearn.impute import SimpleImputer\n",
        "from category_encoders import BinaryEncoder"
      ],
      "metadata": {
        "id": "dIxtiwQMkxe_"
      },
      "execution_count": null,
      "outputs": []
    },
    {
      "cell_type": "code",
      "source": [
        "X= data_new[['Income', 'Spent']]\n",
        "X.shape\n",
        "#Spent"
      ],
      "metadata": {
        "id": "psdcq4d37vnF"
      },
      "execution_count": null,
      "outputs": []
    },
    {
      "cell_type": "code",
      "source": [
        "from sklearn.preprocessing import StandardScaler\n",
        "scaler = StandardScaler()\n",
        "X= scaler.fit_transform(X)\n",
        "#X = pd.DataFrame(Xpr, columns=X.columns)\n",
        "X"
      ],
      "metadata": {
        "id": "rDAncmZsFlM1"
      },
      "execution_count": null,
      "outputs": []
    },
    {
      "cell_type": "code",
      "source": [
        "# Within-cluster Sum of Squares (Inertia)\n",
        "inertia=[]\n",
        "k_range= range(2,11)\n",
        "\n",
        "for i in k_range:\n",
        "    kmeans_i = KMeans(n_clusters= i, init='k-means++', n_init='auto', random_state=0)\n",
        "    kmeans_i.fit(X)\n",
        "    inertia.append(kmeans_i.inertia_)\n",
        "\n",
        "# Visualizing the ELBOW method to get the optimal value of K\n",
        "sns.lineplot(x=k_range, y=inertia)\n",
        "plt.title('The Elbow Method')\n",
        "plt.xlabel('No of clusters \"k\"')\n",
        "plt.ylabel('Inertia')\n",
        "\n",
        "# Annotate arrow\n",
        "plt.show()"
      ],
      "metadata": {
        "id": "6_BRPx4EROdt"
      },
      "execution_count": null,
      "outputs": []
    },
    {
      "cell_type": "code",
      "source": [
        "from sklearn.metrics import silhouette_score\n",
        "silhouette_scores=[]\n",
        "k_range= range(2,11)\n",
        "\n",
        "for i in k_range:\n",
        "    kmeans = KMeans(n_clusters= i, init='k-means++', n_init='auto', random_state=0)\n",
        "    kmeans.fit(X)\n",
        "    silhouette_scores.append(silhouette_score(X, kmeans.labels_, metric='euclidean'))\n",
        "\n",
        "# Visualizing the silhouette_scores method to get the optimal value of K\n",
        "sns.lineplot(x=k_range, y=silhouette_scores)\n",
        "plt.title('The silhouette_scores Method')\n",
        "plt.xlabel('No of clusters \"k\"')\n",
        "plt.ylabel('silhouette_scores')\n",
        "\n",
        "# Annotate arrow\n",
        "plt.show()\n"
      ],
      "metadata": {
        "id": "HTqXAUdcRjAg"
      },
      "execution_count": null,
      "outputs": []
    },
    {
      "cell_type": "code",
      "source": [
        "from sklearn.cluster import KMeans\n",
        "\n",
        "km5 = KMeans(n_clusters=3, init='k-means++', n_init='auto', random_state=0)\n",
        "y_pred = km5.fit_predict(X)\n",
        "#Visualizing all the clusters\n",
        "plt.figure(figsize=(7,5))\n",
        "color_dict = {0:'yellow', 1: 'red', 2: 'blue'}\n",
        "c=pd.DataFrame(y_pred)[0].map(color_dict)\n",
        "plt.scatter(x = X[:,0],y = X[:,1],c = c,cmap = 'rainbow',edgecolor = 'black')\n",
        "plt.scatter(km5.cluster_centers_[:, 0], km5.cluster_centers_[:, 1], s = 70, c = 'black', label = 'Centroids')\n",
        "\n",
        "\n",
        "plt.title('Clusters of customers')\n",
        "plt.xlabel('Annual Income (k$)')\n",
        "plt.ylabel('spent')\n",
        "plt.legend()\n",
        "plt.show()"
      ],
      "metadata": {
        "id": "Q2Ghf9J9FTVC"
      },
      "execution_count": null,
      "outputs": []
    },
    {
      "cell_type": "code",
      "source": [
        "#Cluster 0 :hig(high income,high spent) yelow\n",
        "#Cluster 2:mid(mid income,mid spent) blue\n",
        "#Cluster 1 :low(low income,low spent) red"
      ],
      "metadata": {
        "id": "6OPUCFanX82L"
      },
      "execution_count": null,
      "outputs": []
    },
    {
      "cell_type": "code",
      "source": [
        "data_new['cluster'] = y_pred"
      ],
      "metadata": {
        "id": "Fxf8AYntVqIr"
      },
      "execution_count": null,
      "outputs": []
    },
    {
      "cell_type": "code",
      "source": [
        "\n",
        "data_new['cluster'] = data_new['cluster'].replace([1, 2,0], ['low','Intermittent','Best'])\n",
        "\n",
        "data_new.head()"
      ],
      "metadata": {
        "id": "1FR1D92pcWTZ"
      },
      "execution_count": null,
      "outputs": []
    },
    {
      "cell_type": "code",
      "source": [
        "data_new.head(20)"
      ],
      "metadata": {
        "id": "B8eL8Le3V2tj"
      },
      "execution_count": null,
      "outputs": []
    },
    {
      "cell_type": "code",
      "source": [
        "sns.countplot(data_new, x=\"cluster\").set(title=\"Distribution of clusters\")\n",
        "plt.show()"
      ],
      "metadata": {
        "id": "EAWyzsTNWrWt"
      },
      "execution_count": null,
      "outputs": []
    },
    {
      "cell_type": "code",
      "source": [
        "sns.boxplot(x='cluster', y='Age', data=data_new)\n",
        "plt.show()"
      ],
      "metadata": {
        "id": "TaolCaO7dikW"
      },
      "execution_count": null,
      "outputs": []
    },
    {
      "cell_type": "code",
      "source": [
        "data_new.cluster.value_counts()"
      ],
      "metadata": {
        "id": "gcfsOsAWvPOD"
      },
      "execution_count": null,
      "outputs": []
    },
    {
      "cell_type": "code",
      "source": [
        "sns.boxplot(x='cluster', y='Age', data=data_new)\n",
        "plt.show()"
      ],
      "metadata": {
        "id": "hJfyDtYfvhcE"
      },
      "execution_count": null,
      "outputs": []
    },
    {
      "cell_type": "markdown",
      "source": [
        "Customer Age vs. Clusters:\n",
        "\"Intermittent High Spenders\" and \"Best Customers\" are the oldest in terms of age, further emphasizing their long-term engagement with the store."
      ],
      "metadata": {
        "id": "W8erElzPv5JE"
      }
    },
    {
      "cell_type": "code",
      "source": [
        "fig, axes = plt.subplots(1, 2, figsize=(20, 8))\n",
        "sns.countplot(ax=axes[0], x='Education', hue='cluster', data=data_new)\n",
        "sns.countplot(ax=axes[1], x='Marital_Status', hue='cluster', data=data_new)\n",
        "plt.show()"
      ],
      "metadata": {
        "id": "fx8iTaXwhT2s"
      },
      "execution_count": null,
      "outputs": []
    },
    {
      "cell_type": "markdown",
      "source": [
        " \"Education\" and \"Marital_Status\" doesnt have a significant effect on the clusters"
      ],
      "metadata": {
        "id": "r1kiUYeEwrQj"
      }
    },
    {
      "cell_type": "code",
      "source": [
        "sns.countplot(x='Kidhome', hue='cluster', data=data_new)\n",
        "plt.show()"
      ],
      "metadata": {
        "id": "8yDYw4nPxJeF"
      },
      "execution_count": null,
      "outputs": []
    },
    {
      "cell_type": "markdown",
      "source": [
        "\"Best\" customers are populated in the family of 0 kidhome\n",
        "\n",
        "\n",
        "\n",
        "\n",
        "\n",
        "\"low\" customers are populated in the family of 1 kidhome"
      ],
      "metadata": {
        "id": "brJIv1I2x6B4"
      }
    },
    {
      "cell_type": "code",
      "source": [
        "sns.countplot(x='Teenhome', hue='cluster', data=data_new)\n"
      ],
      "metadata": {
        "id": "t5AjDvS9yVgm"
      },
      "execution_count": null,
      "outputs": []
    },
    {
      "cell_type": "markdown",
      "source": [
        "Best\" customers are populated in the family of 0 teenhome\n",
        "\n",
        "\n",
        "\n",
        "\"low\" customers are populated in the family of 1 teenhome"
      ],
      "metadata": {
        "id": "oSqCcBXgzMny"
      }
    },
    {
      "cell_type": "code",
      "source": [
        "sns.countplot(x='NumDealsPurchases', hue='cluster', data=data_new)"
      ],
      "metadata": {
        "id": "jo5ohFTSzcRj"
      },
      "execution_count": null,
      "outputs": []
    },
    {
      "cell_type": "markdown",
      "source": [
        "in NumDealsPurchases feature, every cluster has a similar pattern. The majority of customer only made 1 purchase with a deal. But there is a small percentage of customer that made 2 purchases with a deal. And there is a very small percentage of customer that made 3 purchases and above with a deal."
      ],
      "metadata": {
        "id": "PgCsuboK0FDO"
      }
    },
    {
      "cell_type": "code",
      "source": [
        "sns.countplot(x='NumWebPurchases', hue='cluster', data=data_new)"
      ],
      "metadata": {
        "id": "Plw5X2D90Jmr"
      },
      "execution_count": null,
      "outputs": []
    },
    {
      "cell_type": "markdown",
      "source": [
        "low group___\n",
        "the majority of them made 3 purchases"
      ],
      "metadata": {
        "id": "tdpZSPLC0xLt"
      }
    },
    {
      "cell_type": "code",
      "source": [
        "sns.countplot(x='NumCatalogPurchases', hue='cluster', data=data_new)"
      ],
      "metadata": {
        "id": "CIZkFLQX1FgS"
      },
      "execution_count": null,
      "outputs": []
    },
    {
      "cell_type": "markdown",
      "source": [
        "low group___ the majority of them made 1 purchases\n",
        "\n",
        "\n",
        "\n",
        "But for  Intermittent  the majority of them made 2 purchases and above.\n",
        "\n",
        "\n",
        "But for  Best the majority of them made 6 purchases and above.\n",
        "\n",
        "\n"
      ],
      "metadata": {
        "id": "8FtvKEvS19Op"
      }
    },
    {
      "cell_type": "code",
      "source": [
        "sns.countplot(x='NumStorePurchases', hue='cluster', data=data_new)"
      ],
      "metadata": {
        "id": "2xoCaguS1-GM"
      },
      "execution_count": null,
      "outputs": []
    },
    {
      "cell_type": "markdown",
      "source": [
        "**Best Customers¶**\n",
        "\n",
        "\n",
        "\n",
        "\n",
        "Recognize and reward \"Best Customers\" for their long-term loyalty\n",
        "\n",
        "\n",
        "\n",
        "Consider offering them exclusive privileges, such as early access to sales, premium customer support, or personalized gifts on special occasions.\n",
        "\n",
        "\n",
        "\n",
        "\n",
        "\n",
        "\n",
        "Create a dedicated loyalty program for this segment with tiered benefits to encourage them to maintain their high spending levels, such as free shipping, exclusive discounts, or free gifts.\n",
        "\n",
        "\n",
        "\n",
        "\n",
        "Focus on building long-term relationships rather than just transactions. Prioritize customer satisfaction and consider periodic check-ins or loyalty surveys to gauge their evolving preferences.\n",
        "\n",
        "\n"
      ],
      "metadata": {
        "id": "7LXv2gi12lZ6"
      }
    },
    {
      "cell_type": "markdown",
      "source": [
        "**Intermittent High Spenders**\n",
        "\n",
        "\n",
        "\n",
        "*Implement a reminder system to notify them about ongoing promotions or limited-time deals.\n",
        "\n",
        "\n",
        "\n",
        "Create bundles or packages that encourage bulk purchasing, offering them cost savings for buying in larger quantities.\n",
        "\n",
        "\n",
        "\n",
        "\n",
        "Tailor the offers to align with the preferences and needs of older customers.\n",
        "\n",
        "\n",
        "\n"
      ],
      "metadata": {
        "id": "8ak4qbJv3GWo"
      }
    },
    {
      "cell_type": "markdown",
      "source": [
        "**low**\n",
        "\n",
        "Focus on reactivating these customers by sending win-back campaigns with attractive incentives, such as special discounts or offers for returning customers.\n",
        "\n",
        "\n",
        "\n",
        "\n",
        "Show them ads featuring items they've viewed or wishlisted but didn't purchase.\n",
        "\n",
        "\n",
        "\n",
        "\n",
        "\n",
        "Showcase positive reviews and testimonials from satisfied customers, as social proof can influence purchasing decisions"
      ],
      "metadata": {
        "id": "9zqC4zm73wgd"
      }
    }
  ]
}